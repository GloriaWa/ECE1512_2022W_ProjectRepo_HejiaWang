{
  "cells": [
    {
      "cell_type": "markdown",
      "metadata": {
        "id": "4xOQqUfikKvR"
      },
      "source": [
        "### Read dataset"
      ]
    },
    {
      "cell_type": "code",
      "execution_count": null,
      "metadata": {
        "colab": {
          "base_uri": "https://localhost:8080/"
        },
        "id": "hjGViYdckCD4",
        "outputId": "dfe94e4c-420a-4284-a99f-c651c159a922"
      },
      "outputs": [
        {
          "name": "stdout",
          "output_type": "stream",
          "text": [
            "Mounted at /content/drive\n"
          ]
        }
      ],
      "source": [
        "import tensorflow.compat.v2 as tf\n",
        "import tensorflow_datasets as tfds\n",
        "import pandas as pd\n",
        "import numpy as np\n",
        "import math\n",
        "import cv2\n",
        "from tensorflow.keras.preprocessing.image import ImageDataGenerator\n",
        "import glob\n",
        "import shutil\n",
        "import keras\n",
        "from keras.models import Model\n",
        "\n",
        "from typing import Union\n",
        "from keras.layers import Conv2D, MaxPooling2D, GlobalAveragePooling2D, Dense, Flatten, Dropout\n",
        "from keras.models import Sequential\n",
        "\n",
        "tf.enable_v2_behavior()\n",
        "\n",
        "from google.colab import drive\n",
        "drive.mount('/content/drive')\n",
        "import os\n",
        "os.chdir(r'/content/drive/My Drive/Colab Notebooks')"
      ]
    },
    {
      "cell_type": "code",
      "execution_count": null,
      "metadata": {
        "colab": {
          "base_uri": "https://localhost:8080/"
        },
        "id": "9Q9CH2O1k61t",
        "outputId": "4cbc04b4-f3bf-48a0-dfab-2ddf337f8bf4"
      },
      "outputs": [
        {
          "name": "stderr",
          "output_type": "stream",
          "text": [
            "/usr/local/lib/python3.7/dist-packages/pandas/core/frame.py:4913: SettingWithCopyWarning: \n",
            "A value is trying to be set on a copy of a slice from a DataFrame\n",
            "\n",
            "See the caveats in the documentation: https://pandas.pydata.org/pandas-docs/stable/user_guide/indexing.html#returning-a-view-versus-a-copy\n",
            "  errors=errors,\n"
          ]
        }
      ],
      "source": [
        "annotations = pd.read_csv('annotations.csv')\n",
        "\n",
        "anno_train = annotations.loc[annotations['Partition'] == 'train']\n",
        "anno_test = annotations.loc[annotations['Partition'] == 'test']\n",
        "\n",
        "anno_train.drop(['Partition', 'Number of Annotators who Selected SSA (Out of 7)'], axis=1, inplace=True)\n",
        "anno_test.drop(['Partition', 'Number of Annotators who Selected SSA (Out of 7)'], axis=1, inplace=True)\n",
        "\n",
        "anno_train = anno_train.rename(columns={'Majority Vote Label': 'label'})\n",
        "anno_test = anno_test.rename(columns={'Majority Vote Label': 'label'})\n",
        "\n",
        "anno_train = anno_train.astype({'label': str})\n",
        "anno_test = anno_test.astype({'label': str})"
      ]
    },
    {
      "cell_type": "code",
      "execution_count": null,
      "metadata": {
        "id": "HI7Ld_JXeUmm"
      },
      "outputs": [],
      "source": [
        "train_img = anno_train['Image Name'].values\n",
        "test_img = anno_test['Image Name'].values\n",
        "\n",
        "# Referenced https://stackoverflow.com/questions/11903037/copy-all-jpg-file-in-a-directory-to-another-directory-in-python\n",
        "# Referenced https://stackoverflow.com/questions/49237177/copying-multiple-images-in-a-list-from-one-folder-to-another-without-copying-all\n",
        "src_dir = \"images\"\n",
        "train_dir = \"train\"\n",
        "test_dir = \"test\"\n",
        "\n",
        "for im in train_img:\n",
        "  shutil.copy(os.path.join(src_dir, im), train_dir)\n",
        "\n",
        "for im in test_img:\n",
        "  shutil.copy(os.path.join(src_dir, im), test_dir)"
      ]
    },
    {
      "cell_type": "code",
      "execution_count": null,
      "metadata": {
        "colab": {
          "base_uri": "https://localhost:8080/"
        },
        "id": "CEFPFK8IKwiA",
        "outputId": "074469a3-21d9-4743-f766-ae691f236adc"
      },
      "outputs": [
        {
          "name": "stdout",
          "output_type": "stream",
          "text": [
            "Found 2175 validated image filenames belonging to 2 classes.\n",
            "Found 977 validated image filenames belonging to 2 classes.\n"
          ]
        }
      ],
      "source": [
        "# Referenced Project A.\n",
        "# ImageDataGenerator with augmentation\n",
        "train_datagen = ImageDataGenerator(rescale=1/255.,\n",
        "shear_range=0.1,\n",
        "rotation_range=15,\n",
        "horizontal_flip=True,\n",
        "vertical_flip=True)\n",
        "\n",
        "test_datagen = ImageDataGenerator(rescale=1/255.)\n",
        "\n",
        "# Referenced https://stackoverflow.com/questions/59464409/loading-images-in-keras-for-cnn-from-directory-but-label-in-csv-file\n",
        "train_generator=train_datagen.flow_from_dataframe(\n",
        "dataframe=anno_train,\n",
        "directory=\"train\",\n",
        "x_col=\"Image Name\",\n",
        "y_col=\"label\",\n",
        "batch_size=32,\n",
        "seed=42,\n",
        "shuffle=True,\n",
        "class_mode=\"categorical\",\n",
        "target_size=(224, 224))\n",
        "\n",
        "test_generator=test_datagen.flow_from_dataframe(\n",
        "dataframe=anno_test,\n",
        "directory=\"test\",\n",
        "x_col=\"Image Name\",\n",
        "y_col=\"label\",\n",
        "batch_size=32,\n",
        "seed=42,\n",
        "shuffle=False,\n",
        "class_mode=\"categorical\",\n",
        "target_size=(224, 224))"
      ]
    },
    {
      "cell_type": "markdown",
      "metadata": {
        "id": "JsF5iEefma2-"
      },
      "source": [
        "### Test Student"
      ]
    },
    {
      "cell_type": "code",
      "execution_count": null,
      "metadata": {
        "colab": {
          "background_save": true,
          "base_uri": "https://localhost:8080/"
        },
        "id": "vFZ-k4-TuTLV",
        "outputId": "e91e56c4-1c39-47a6-8f00-05c9d07bc3bd"
      },
      "outputs": [
        {
          "name": "stderr",
          "output_type": "stream",
          "text": [
            "/usr/local/lib/python3.7/dist-packages/ipykernel_launcher.py:23: UserWarning: `Model.fit_generator` is deprecated and will be removed in a future version. Please use `Model.fit`, which supports generators.\n"
          ]
        },
        {
          "name": "stdout",
          "output_type": "stream",
          "text": [
            "Epoch 1/25\n",
            "67/67 [==============================] - 384s 6s/step - loss: 1.3378 - accuracy: 0.6127\n",
            "Epoch 2/25\n",
            "67/67 [==============================] - 33s 485ms/step - loss: 0.5721 - accuracy: 0.7074\n",
            "Epoch 3/25\n",
            "67/67 [==============================] - 33s 493ms/step - loss: 0.5633 - accuracy: 0.7513\n",
            "Epoch 4/25\n",
            "67/67 [==============================] - 32s 474ms/step - loss: 0.6056 - accuracy: 0.7275\n",
            "Epoch 5/25\n",
            "67/67 [==============================] - 32s 482ms/step - loss: 0.5182 - accuracy: 0.7480\n",
            "Epoch 6/25\n",
            "67/67 [==============================] - 33s 485ms/step - loss: 0.4928 - accuracy: 0.7825\n",
            "Epoch 7/25\n",
            "67/67 [==============================] - 34s 509ms/step - loss: 0.4999 - accuracy: 0.8007\n",
            "Epoch 8/25\n",
            "67/67 [==============================] - 32s 476ms/step - loss: 0.4706 - accuracy: 0.8185\n",
            "Epoch 9/25\n",
            "67/67 [==============================] - 32s 474ms/step - loss: 0.4073 - accuracy: 0.8371\n",
            "Epoch 10/25\n",
            "67/67 [==============================] - 32s 474ms/step - loss: 0.3913 - accuracy: 0.8409\n",
            "Epoch 11/25\n",
            "67/67 [==============================] - 32s 475ms/step - loss: 0.3500 - accuracy: 0.8549\n",
            "Epoch 12/25\n",
            "67/67 [==============================] - 33s 485ms/step - loss: 0.5692 - accuracy: 0.7154\n",
            "Epoch 13/25\n",
            "67/67 [==============================] - 32s 474ms/step - loss: 0.4411 - accuracy: 0.8091\n",
            "Epoch 14/25\n",
            "67/67 [==============================] - 32s 474ms/step - loss: 0.4146 - accuracy: 0.8483\n",
            "Epoch 15/25\n",
            "67/67 [==============================] - 32s 475ms/step - loss: 0.4041 - accuracy: 0.8409\n",
            "Epoch 16/25\n",
            "67/67 [==============================] - 32s 476ms/step - loss: 0.3999 - accuracy: 0.8558\n",
            "Epoch 17/25\n",
            "67/67 [==============================] - 33s 489ms/step - loss: 0.3811 - accuracy: 0.8404\n",
            "Epoch 18/25\n",
            "67/67 [==============================] - 34s 506ms/step - loss: 0.3698 - accuracy: 0.8665\n",
            "Epoch 19/25\n",
            "67/67 [==============================] - 33s 493ms/step - loss: 0.4945 - accuracy: 0.7606\n",
            "Epoch 20/25\n",
            "67/67 [==============================] - 32s 481ms/step - loss: 0.3870 - accuracy: 0.8292\n",
            "Epoch 21/25\n",
            "67/67 [==============================] - 32s 482ms/step - loss: 0.3897 - accuracy: 0.8540\n",
            "Epoch 22/25\n",
            "67/67 [==============================] - 32s 475ms/step - loss: 0.3743 - accuracy: 0.8521\n",
            "Epoch 23/25\n",
            "67/67 [==============================] - 32s 467ms/step - loss: 0.3083 - accuracy: 0.8773\n",
            "Epoch 24/25\n",
            "67/67 [==============================] - 31s 467ms/step - loss: 0.2631 - accuracy: 0.8927\n",
            "Epoch 25/25\n",
            "67/67 [==============================] - 31s 468ms/step - loss: 0.4067 - accuracy: 0.8997\n"
          ]
        },
        {
          "data": {
            "text/plain": [
              "<keras.callbacks.History at 0x7ff460382210>"
            ]
          },
          "execution_count": null,
          "metadata": {},
          "output_type": "execute_result"
        }
      ],
      "source": [
        "student = tf.keras.Sequential()\n",
        "mobile_model= tf.keras.applications.MobileNetV2(include_top=False,\n",
        "                  input_shape=(224,224,3),\n",
        "                  pooling='avg',classes=2,\n",
        "                  weights='imagenet')\n",
        "\n",
        "mobile_model.trainable = True\n",
        "for layer in mobile_model.layers:\n",
        "  layer.trainable = True\n",
        "\n",
        "student.add(mobile_model)\n",
        "student.add(Flatten())\n",
        "student.add(Dense(2))\n",
        "\n",
        "student.compile(loss=keras.losses.categorical_crossentropy,\n",
        "              optimizer=tf.keras.optimizers.Adam(learning_rate=0.001),\n",
        "              metrics=['accuracy'])\n",
        "\n",
        "student.fit_generator(generator=train_generator,\n",
        "                    steps_per_epoch=train_generator.n // 32,\n",
        "                    epochs=25,                 \n",
        "                    shuffle = True,\n",
        "                    verbose=1)"
      ]
    },
    {
      "cell_type": "code",
      "execution_count": 6,
      "metadata": {
        "id": "I67AiaeOuoii",
        "colab": {
          "base_uri": "https://localhost:8080/"
        },
        "outputId": "70cba1c9-de22-4309-ac64-f90fbbad4054"
      },
      "outputs": [
        {
          "output_type": "stream",
          "name": "stdout",
          "text": [
            "Overall classification accuracy on test set: 0.6632548618219037\n"
          ]
        }
      ],
      "source": [
        "predict = student.predict(test_generator,steps=31)\n",
        "\n",
        "test_generator.reset()\n",
        "y_predict = np.argmax(predict, axis=1)\n",
        "labels = []\n",
        "\n",
        "for i in range(31):\n",
        "  _,label_batch=test_generator.next()\n",
        "  for j in range(label_batch.shape[0]):\n",
        "    labels.append(label_batch[j])\n",
        "labels = np.array(labels)\n",
        "y_labels = np.argmax(labels, axis=1)\n",
        "\n",
        "### classification accuracy on test set\n",
        "correct_prediction_count = 0\n",
        "for i in range(977):\n",
        "  if y_predict[i] == y_labels[i]:\n",
        "    correct_prediction_count = correct_prediction_count+1\n",
        "\n",
        "print(\"Overall classification accuracy on test set: \" + str(correct_prediction_count/977))"
      ]
    },
    {
      "cell_type": "markdown",
      "metadata": {
        "id": "xhb6R5Mouq1r"
      },
      "source": [
        "### Test Teacher"
      ]
    },
    {
      "cell_type": "code",
      "execution_count": null,
      "metadata": {
        "colab": {
          "base_uri": "https://localhost:8080/"
        },
        "id": "P2zAUiS6tZjp",
        "outputId": "68278f05-a2f4-455a-bd04-d1fd2ebe0446"
      },
      "outputs": [
        {
          "name": "stderr",
          "output_type": "stream",
          "text": [
            "/usr/local/lib/python3.7/dist-packages/ipykernel_launcher.py:15: UserWarning: `Model.fit_generator` is deprecated and will be removed in a future version. Please use `Model.fit`, which supports generators.\n",
            "  from ipykernel import kernelapp as app\n"
          ]
        },
        {
          "name": "stdout",
          "output_type": "stream",
          "text": [
            "Epoch 1/25\n",
            "67/67 [==============================] - 39s 503ms/step - loss: 0.4579 - accuracy: 0.7886\n",
            "Epoch 2/25\n",
            "67/67 [==============================] - 34s 502ms/step - loss: 0.3111 - accuracy: 0.8698\n",
            "Epoch 3/25\n",
            "67/67 [==============================] - 34s 506ms/step - loss: 0.2477 - accuracy: 0.9043\n",
            "Epoch 4/25\n",
            "67/67 [==============================] - 34s 502ms/step - loss: 0.1991 - accuracy: 0.9244\n",
            "Epoch 5/25\n",
            "67/67 [==============================] - 34s 501ms/step - loss: 0.1644 - accuracy: 0.9263\n",
            "Epoch 6/25\n",
            "67/67 [==============================] - 34s 502ms/step - loss: 0.1637 - accuracy: 0.9389\n",
            "Epoch 7/25\n",
            "67/67 [==============================] - 34s 500ms/step - loss: 0.1433 - accuracy: 0.9487\n",
            "Epoch 8/25\n",
            "67/67 [==============================] - 34s 501ms/step - loss: 0.1308 - accuracy: 0.9515\n",
            "Epoch 9/25\n",
            "67/67 [==============================] - 33s 499ms/step - loss: 0.1082 - accuracy: 0.9594\n",
            "Epoch 10/25\n",
            "67/67 [==============================] - 34s 500ms/step - loss: 0.0961 - accuracy: 0.9622\n",
            "Epoch 11/25\n",
            "67/67 [==============================] - 34s 501ms/step - loss: 0.0894 - accuracy: 0.9678\n",
            "Epoch 12/25\n",
            "67/67 [==============================] - 34s 502ms/step - loss: 0.0974 - accuracy: 0.9627\n",
            "Epoch 13/25\n",
            "67/67 [==============================] - 34s 500ms/step - loss: 0.0921 - accuracy: 0.9641\n",
            "Epoch 14/25\n",
            "67/67 [==============================] - 33s 497ms/step - loss: 0.0978 - accuracy: 0.9608\n",
            "Epoch 15/25\n",
            "67/67 [==============================] - 33s 499ms/step - loss: 0.0863 - accuracy: 0.9669\n",
            "Epoch 16/25\n",
            "67/67 [==============================] - 34s 503ms/step - loss: 0.0534 - accuracy: 0.9799\n",
            "Epoch 17/25\n",
            "67/67 [==============================] - 33s 499ms/step - loss: 0.0673 - accuracy: 0.9776\n",
            "Epoch 18/25\n",
            "67/67 [==============================] - 34s 500ms/step - loss: 0.0593 - accuracy: 0.9781\n",
            "Epoch 19/25\n",
            "67/67 [==============================] - 34s 501ms/step - loss: 0.0592 - accuracy: 0.9729\n",
            "Epoch 20/25\n",
            "67/67 [==============================] - 33s 498ms/step - loss: 0.0719 - accuracy: 0.9762\n",
            "Epoch 21/25\n",
            "67/67 [==============================] - 34s 502ms/step - loss: 0.0601 - accuracy: 0.9799\n",
            "Epoch 22/25\n",
            "67/67 [==============================] - 34s 501ms/step - loss: 0.0609 - accuracy: 0.9757\n",
            "Epoch 23/25\n",
            "67/67 [==============================] - 34s 502ms/step - loss: 0.0507 - accuracy: 0.9837\n",
            "Epoch 24/25\n",
            "67/67 [==============================] - 34s 509ms/step - loss: 0.0428 - accuracy: 0.9837\n",
            "Epoch 25/25\n",
            "67/67 [==============================] - 41s 608ms/step - loss: 0.0499 - accuracy: 0.9837\n"
          ]
        },
        {
          "data": {
            "text/plain": [
              "<keras.callbacks.History at 0x7fb1c4586d10>"
            ]
          },
          "execution_count": 26,
          "metadata": {},
          "output_type": "execute_result"
        }
      ],
      "source": [
        "teacher = Sequential()\n",
        "resnet_model= tf.keras.applications.ResNet50V2(include_top=False,\n",
        "                   input_shape=(224,224,3),\n",
        "                   pooling='avg',classes=2,\n",
        "                   weights='imagenet')\n",
        "\n",
        "\n",
        "resnet_model.trainable = True\n",
        "\n",
        "set_trainable = False\n",
        "for layer in resnet_model.layers:\n",
        "    if layer.name in ['conv4_block1_preact_bn', 'conv5_block1_preact_bn']:\n",
        "        set_trainable = True\n",
        "    if set_trainable:\n",
        "        layer.trainable = True\n",
        "    else:\n",
        "        layer.trainable = False\n",
        "\n",
        "teacher.add(resnet_model)\n",
        "teacher.add(Flatten())\n",
        "teacher.add(Dense(512, activation='relu'))\n",
        "teacher.add(Dropout(0.3))\n",
        "teacher.add(Dense(2, activation='softmax'))\n",
        "\n",
        "teacher.compile(loss=keras.losses.categorical_crossentropy,\n",
        "              optimizer=tf.keras.optimizers.Adam(learning_rate=0.0001),\n",
        "              metrics=['accuracy'])\n",
        "\n",
        "teacher.fit_generator(generator=train_generator,\n",
        "                    steps_per_epoch=train_generator.n // 32,\n",
        "                    epochs=25,                 \n",
        "                    shuffle = True,\n",
        "                    verbose=1)"
      ]
    },
    {
      "cell_type": "code",
      "execution_count": null,
      "metadata": {
        "colab": {
          "base_uri": "https://localhost:8080/"
        },
        "id": "mml9ddafTX-T",
        "outputId": "3ce9fae4-3421-47c8-d694-abdd98d44c55"
      },
      "outputs": [
        {
          "name": "stdout",
          "output_type": "stream",
          "text": [
            "Overall classification accuracy on test set: 0.8474923234390993\n"
          ]
        }
      ],
      "source": [
        "predict = teacher.predict(test_generator,steps=31)\n",
        "\n",
        "test_generator.reset()\n",
        "y_predict = np.argmax(predict, axis=1)\n",
        "labels = []\n",
        "\n",
        "for i in range(31):\n",
        "  _,label_batch=test_generator.next()\n",
        "  for j in range(label_batch.shape[0]):\n",
        "    labels.append(label_batch[j])\n",
        "labels = np.array(labels)\n",
        "y_labels = np.argmax(labels, axis=1)\n",
        "\n",
        "### classification accuracy on test set\n",
        "correct_prediction_count = 0\n",
        "for i in range(977):\n",
        "  if y_predict[i] == y_labels[i]:\n",
        "    correct_prediction_count = correct_prediction_count+1\n",
        "\n",
        "print(\"Overall classification accuracy on test set: \" + str(correct_prediction_count/977))"
      ]
    }
  ],
  "metadata": {
    "accelerator": "GPU",
    "colab": {
      "collapsed_sections": [],
      "name": "Task2-prepare.ipynb",
      "provenance": []
    },
    "kernelspec": {
      "display_name": "Python 3",
      "name": "python3"
    },
    "language_info": {
      "name": "python"
    }
  },
  "nbformat": 4,
  "nbformat_minor": 0
}