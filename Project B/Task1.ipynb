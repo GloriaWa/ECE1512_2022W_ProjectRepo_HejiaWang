{
  "nbformat": 4,
  "nbformat_minor": 0,
  "metadata": {
    "colab": {
      "name": "Task1.ipynb",
      "provenance": [],
      "collapsed_sections": []
    },
    "kernelspec": {
      "name": "python3",
      "display_name": "Python 3"
    },
    "language_info": {
      "name": "python"
    },
    "widgets": {
      "application/vnd.jupyter.widget-state+json": {
        "96fd55c9f1b549058ebc827094be89ae": {
          "model_module": "@jupyter-widgets/controls",
          "model_name": "HBoxModel",
          "model_module_version": "1.5.0",
          "state": {
            "_dom_classes": [],
            "_model_module": "@jupyter-widgets/controls",
            "_model_module_version": "1.5.0",
            "_model_name": "HBoxModel",
            "_view_count": null,
            "_view_module": "@jupyter-widgets/controls",
            "_view_module_version": "1.5.0",
            "_view_name": "HBoxView",
            "box_style": "",
            "children": [
              "IPY_MODEL_7f2530b84b3e4275a2f0764ffdfe9394",
              "IPY_MODEL_a51aa62708a24e4db02bd899bbd22ee2",
              "IPY_MODEL_3d7d50fd771c4a10bd4c436a68a805ef"
            ],
            "layout": "IPY_MODEL_5d8dde78ccc044cbb209e940c769dab1"
          }
        },
        "7f2530b84b3e4275a2f0764ffdfe9394": {
          "model_module": "@jupyter-widgets/controls",
          "model_name": "HTMLModel",
          "model_module_version": "1.5.0",
          "state": {
            "_dom_classes": [],
            "_model_module": "@jupyter-widgets/controls",
            "_model_module_version": "1.5.0",
            "_model_name": "HTMLModel",
            "_view_count": null,
            "_view_module": "@jupyter-widgets/controls",
            "_view_module_version": "1.5.0",
            "_view_name": "HTMLView",
            "description": "",
            "description_tooltip": null,
            "layout": "IPY_MODEL_2a2e112517134431b1fa7a04fb8789bc",
            "placeholder": "​",
            "style": "IPY_MODEL_4f93cd3394b045eeafe9771cadb1846b",
            "value": "Dl Completed...: 100%"
          }
        },
        "a51aa62708a24e4db02bd899bbd22ee2": {
          "model_module": "@jupyter-widgets/controls",
          "model_name": "FloatProgressModel",
          "model_module_version": "1.5.0",
          "state": {
            "_dom_classes": [],
            "_model_module": "@jupyter-widgets/controls",
            "_model_module_version": "1.5.0",
            "_model_name": "FloatProgressModel",
            "_view_count": null,
            "_view_module": "@jupyter-widgets/controls",
            "_view_module_version": "1.5.0",
            "_view_name": "ProgressView",
            "bar_style": "success",
            "description": "",
            "description_tooltip": null,
            "layout": "IPY_MODEL_a96744c117a34a81a80384b6c09020a6",
            "max": 4,
            "min": 0,
            "orientation": "horizontal",
            "style": "IPY_MODEL_9bfb928e580f420898e17c714b3a647b",
            "value": 4
          }
        },
        "3d7d50fd771c4a10bd4c436a68a805ef": {
          "model_module": "@jupyter-widgets/controls",
          "model_name": "HTMLModel",
          "model_module_version": "1.5.0",
          "state": {
            "_dom_classes": [],
            "_model_module": "@jupyter-widgets/controls",
            "_model_module_version": "1.5.0",
            "_model_name": "HTMLModel",
            "_view_count": null,
            "_view_module": "@jupyter-widgets/controls",
            "_view_module_version": "1.5.0",
            "_view_name": "HTMLView",
            "description": "",
            "description_tooltip": null,
            "layout": "IPY_MODEL_6654e06ee1bd45c688b2bea7fbeeeeb5",
            "placeholder": "​",
            "style": "IPY_MODEL_b166e7686ecb4499a50a65984a3dcedc",
            "value": " 4/4 [00:00&lt;00:00,  7.38 file/s]"
          }
        },
        "5d8dde78ccc044cbb209e940c769dab1": {
          "model_module": "@jupyter-widgets/base",
          "model_name": "LayoutModel",
          "model_module_version": "1.2.0",
          "state": {
            "_model_module": "@jupyter-widgets/base",
            "_model_module_version": "1.2.0",
            "_model_name": "LayoutModel",
            "_view_count": null,
            "_view_module": "@jupyter-widgets/base",
            "_view_module_version": "1.2.0",
            "_view_name": "LayoutView",
            "align_content": null,
            "align_items": null,
            "align_self": null,
            "border": null,
            "bottom": null,
            "display": null,
            "flex": null,
            "flex_flow": null,
            "grid_area": null,
            "grid_auto_columns": null,
            "grid_auto_flow": null,
            "grid_auto_rows": null,
            "grid_column": null,
            "grid_gap": null,
            "grid_row": null,
            "grid_template_areas": null,
            "grid_template_columns": null,
            "grid_template_rows": null,
            "height": null,
            "justify_content": null,
            "justify_items": null,
            "left": null,
            "margin": null,
            "max_height": null,
            "max_width": null,
            "min_height": null,
            "min_width": null,
            "object_fit": null,
            "object_position": null,
            "order": null,
            "overflow": null,
            "overflow_x": null,
            "overflow_y": null,
            "padding": null,
            "right": null,
            "top": null,
            "visibility": null,
            "width": null
          }
        },
        "2a2e112517134431b1fa7a04fb8789bc": {
          "model_module": "@jupyter-widgets/base",
          "model_name": "LayoutModel",
          "model_module_version": "1.2.0",
          "state": {
            "_model_module": "@jupyter-widgets/base",
            "_model_module_version": "1.2.0",
            "_model_name": "LayoutModel",
            "_view_count": null,
            "_view_module": "@jupyter-widgets/base",
            "_view_module_version": "1.2.0",
            "_view_name": "LayoutView",
            "align_content": null,
            "align_items": null,
            "align_self": null,
            "border": null,
            "bottom": null,
            "display": null,
            "flex": null,
            "flex_flow": null,
            "grid_area": null,
            "grid_auto_columns": null,
            "grid_auto_flow": null,
            "grid_auto_rows": null,
            "grid_column": null,
            "grid_gap": null,
            "grid_row": null,
            "grid_template_areas": null,
            "grid_template_columns": null,
            "grid_template_rows": null,
            "height": null,
            "justify_content": null,
            "justify_items": null,
            "left": null,
            "margin": null,
            "max_height": null,
            "max_width": null,
            "min_height": null,
            "min_width": null,
            "object_fit": null,
            "object_position": null,
            "order": null,
            "overflow": null,
            "overflow_x": null,
            "overflow_y": null,
            "padding": null,
            "right": null,
            "top": null,
            "visibility": null,
            "width": null
          }
        },
        "4f93cd3394b045eeafe9771cadb1846b": {
          "model_module": "@jupyter-widgets/controls",
          "model_name": "DescriptionStyleModel",
          "model_module_version": "1.5.0",
          "state": {
            "_model_module": "@jupyter-widgets/controls",
            "_model_module_version": "1.5.0",
            "_model_name": "DescriptionStyleModel",
            "_view_count": null,
            "_view_module": "@jupyter-widgets/base",
            "_view_module_version": "1.2.0",
            "_view_name": "StyleView",
            "description_width": ""
          }
        },
        "a96744c117a34a81a80384b6c09020a6": {
          "model_module": "@jupyter-widgets/base",
          "model_name": "LayoutModel",
          "model_module_version": "1.2.0",
          "state": {
            "_model_module": "@jupyter-widgets/base",
            "_model_module_version": "1.2.0",
            "_model_name": "LayoutModel",
            "_view_count": null,
            "_view_module": "@jupyter-widgets/base",
            "_view_module_version": "1.2.0",
            "_view_name": "LayoutView",
            "align_content": null,
            "align_items": null,
            "align_self": null,
            "border": null,
            "bottom": null,
            "display": null,
            "flex": null,
            "flex_flow": null,
            "grid_area": null,
            "grid_auto_columns": null,
            "grid_auto_flow": null,
            "grid_auto_rows": null,
            "grid_column": null,
            "grid_gap": null,
            "grid_row": null,
            "grid_template_areas": null,
            "grid_template_columns": null,
            "grid_template_rows": null,
            "height": null,
            "justify_content": null,
            "justify_items": null,
            "left": null,
            "margin": null,
            "max_height": null,
            "max_width": null,
            "min_height": null,
            "min_width": null,
            "object_fit": null,
            "object_position": null,
            "order": null,
            "overflow": null,
            "overflow_x": null,
            "overflow_y": null,
            "padding": null,
            "right": null,
            "top": null,
            "visibility": null,
            "width": null
          }
        },
        "9bfb928e580f420898e17c714b3a647b": {
          "model_module": "@jupyter-widgets/controls",
          "model_name": "ProgressStyleModel",
          "model_module_version": "1.5.0",
          "state": {
            "_model_module": "@jupyter-widgets/controls",
            "_model_module_version": "1.5.0",
            "_model_name": "ProgressStyleModel",
            "_view_count": null,
            "_view_module": "@jupyter-widgets/base",
            "_view_module_version": "1.2.0",
            "_view_name": "StyleView",
            "bar_color": null,
            "description_width": ""
          }
        },
        "6654e06ee1bd45c688b2bea7fbeeeeb5": {
          "model_module": "@jupyter-widgets/base",
          "model_name": "LayoutModel",
          "model_module_version": "1.2.0",
          "state": {
            "_model_module": "@jupyter-widgets/base",
            "_model_module_version": "1.2.0",
            "_model_name": "LayoutModel",
            "_view_count": null,
            "_view_module": "@jupyter-widgets/base",
            "_view_module_version": "1.2.0",
            "_view_name": "LayoutView",
            "align_content": null,
            "align_items": null,
            "align_self": null,
            "border": null,
            "bottom": null,
            "display": null,
            "flex": null,
            "flex_flow": null,
            "grid_area": null,
            "grid_auto_columns": null,
            "grid_auto_flow": null,
            "grid_auto_rows": null,
            "grid_column": null,
            "grid_gap": null,
            "grid_row": null,
            "grid_template_areas": null,
            "grid_template_columns": null,
            "grid_template_rows": null,
            "height": null,
            "justify_content": null,
            "justify_items": null,
            "left": null,
            "margin": null,
            "max_height": null,
            "max_width": null,
            "min_height": null,
            "min_width": null,
            "object_fit": null,
            "object_position": null,
            "order": null,
            "overflow": null,
            "overflow_x": null,
            "overflow_y": null,
            "padding": null,
            "right": null,
            "top": null,
            "visibility": null,
            "width": null
          }
        },
        "b166e7686ecb4499a50a65984a3dcedc": {
          "model_module": "@jupyter-widgets/controls",
          "model_name": "DescriptionStyleModel",
          "model_module_version": "1.5.0",
          "state": {
            "_model_module": "@jupyter-widgets/controls",
            "_model_module_version": "1.5.0",
            "_model_name": "DescriptionStyleModel",
            "_view_count": null,
            "_view_module": "@jupyter-widgets/base",
            "_view_module_version": "1.2.0",
            "_view_name": "StyleView",
            "description_width": ""
          }
        }
      }
    }
  },
  "cells": [
    {
      "cell_type": "markdown",
      "source": [
        "# Project B: Knowledge Distillation for Building Lightweight Deep Learning Models in Visual Classification Tasks"
      ],
      "metadata": {
        "id": "6WYMfvCNPwpm"
      }
    },
    {
      "cell_type": "markdown",
      "source": [
        "# Task 1"
      ],
      "metadata": {
        "id": "RDLhTIHPwcld"
      }
    },
    {
      "cell_type": "code",
      "source": [
        "import tensorflow.compat.v2 as tf\n",
        "import tensorflow_datasets as tfds\n",
        "from typing import Union\n",
        "from keras.layers import Conv2D, MaxPooling2D, GlobalAveragePooling2D, Dense, Flatten, Dropout\n",
        "# from keras.losses import CategoricalCrossentropy\n",
        "# from keras import backend as K\n",
        "\n",
        "tf.enable_v2_behavior()\n",
        "\n",
        "builder = tfds.builder('mnist')\n",
        "BATCH_SIZE = 256\n",
        "NUM_EPOCHS = 12\n",
        "NUM_CLASSES = 10  # 10 total classes."
      ],
      "metadata": {
        "id": "vA8ppgB2P0aJ"
      },
      "execution_count": 2,
      "outputs": []
    },
    {
      "cell_type": "markdown",
      "source": [
        "# Data loading"
      ],
      "metadata": {
        "id": "H2EFLQROP2R7"
      }
    },
    {
      "cell_type": "code",
      "source": [
        "# Load train and test splits.\n",
        "def preprocess(x):\n",
        "  image = tf.image.convert_image_dtype(x['image'], tf.float32)\n",
        "  subclass_labels = tf.one_hot(x['label'], builder.info.features['label'].num_classes)\n",
        "  return image, subclass_labels\n",
        "\n",
        "\n",
        "mnist_train = tfds.load('mnist', split='train', shuffle_files=False).cache()\n",
        "mnist_train = mnist_train.map(preprocess)\n",
        "mnist_train = mnist_train.shuffle(builder.info.splits['train'].num_examples)\n",
        "mnist_train = mnist_train.batch(BATCH_SIZE, drop_remainder=True)\n",
        "\n",
        "mnist_test = tfds.load('mnist', split='test').cache()\n",
        "mnist_test = mnist_test.map(preprocess).batch(BATCH_SIZE)"
      ],
      "metadata": {
        "id": "ynByMG_UP4A4",
        "colab": {
          "base_uri": "https://localhost:8080/",
          "height": 212,
          "referenced_widgets": [
            "96fd55c9f1b549058ebc827094be89ae",
            "7f2530b84b3e4275a2f0764ffdfe9394",
            "a51aa62708a24e4db02bd899bbd22ee2",
            "3d7d50fd771c4a10bd4c436a68a805ef",
            "5d8dde78ccc044cbb209e940c769dab1",
            "2a2e112517134431b1fa7a04fb8789bc",
            "4f93cd3394b045eeafe9771cadb1846b",
            "a96744c117a34a81a80384b6c09020a6",
            "9bfb928e580f420898e17c714b3a647b",
            "6654e06ee1bd45c688b2bea7fbeeeeb5",
            "b166e7686ecb4499a50a65984a3dcedc"
          ]
        },
        "outputId": "db51755b-c1b4-4d26-f56d-815d2a0bb6e9"
      },
      "execution_count": null,
      "outputs": [
        {
          "output_type": "stream",
          "name": "stdout",
          "text": [
            "\u001b[1mDownloading and preparing dataset mnist/3.0.1 (download: 11.06 MiB, generated: 21.00 MiB, total: 32.06 MiB) to /root/tensorflow_datasets/mnist/3.0.1...\u001b[0m\n"
          ]
        },
        {
          "output_type": "stream",
          "name": "stderr",
          "text": [
            "WARNING:absl:Dataset mnist is hosted on GCS. It will automatically be downloaded to your\n",
            "local data directory. If you'd instead prefer to read directly from our public\n",
            "GCS bucket (recommended if you're running on GCP), you can instead pass\n",
            "`try_gcs=True` to `tfds.load` or set `data_dir=gs://tfds-data/datasets`.\n",
            "\n"
          ]
        },
        {
          "output_type": "display_data",
          "data": {
            "text/plain": [
              "Dl Completed...:   0%|          | 0/4 [00:00<?, ? file/s]"
            ],
            "application/vnd.jupyter.widget-view+json": {
              "version_major": 2,
              "version_minor": 0,
              "model_id": "96fd55c9f1b549058ebc827094be89ae"
            }
          },
          "metadata": {}
        },
        {
          "output_type": "stream",
          "name": "stdout",
          "text": [
            "\n",
            "\u001b[1mDataset mnist downloaded and prepared to /root/tensorflow_datasets/mnist/3.0.1. Subsequent calls will reuse this data.\u001b[0m\n"
          ]
        }
      ]
    },
    {
      "cell_type": "code",
      "source": [
        "i = 0\n",
        "for images, labels in mnist_train:\n",
        "  i += 1\n",
        "print(i)\n",
        "# mnist_train"
      ],
      "metadata": {
        "colab": {
          "base_uri": "https://localhost:8080/"
        },
        "id": "sqxdUmXwZsut",
        "outputId": "662f1c56-d9af-41d9-f3d5-faa47ceec78d"
      },
      "execution_count": null,
      "outputs": [
        {
          "output_type": "stream",
          "name": "stdout",
          "text": [
            "234\n"
          ]
        }
      ]
    },
    {
      "cell_type": "markdown",
      "source": [
        "# Model creation"
      ],
      "metadata": {
        "id": "kAZwfvW5P63q"
      }
    },
    {
      "cell_type": "code",
      "source": [
        "#@test {\"output\": \"ignore\"}\n",
        "\n",
        "# Build CNN teacher.\n",
        "cnn_model = tf.keras.Sequential()\n",
        "\n",
        "# your code start from here for stpe 2\n",
        "cnn_model.add(Conv2D(32, kernel_size=(3, 3), strides=(1, 1), activation='relu', input_shape=(28, 28, 1)))\n",
        "cnn_model.add(MaxPooling2D(pool_size=(2, 2), strides=(1, 1)))\n",
        "cnn_model.add(Conv2D(64, kernel_size=(3, 3), strides=(1, 1), activation='relu'))\n",
        "cnn_model.add(MaxPooling2D(pool_size=(2, 2), strides=(2, 2)))\n",
        "cnn_model.add(Flatten())\n",
        "cnn_model.add(Dropout(0.5))\n",
        "cnn_model.add(Dense(128, activation='relu'))\n",
        "cnn_model.add(Dropout(0.5))\n",
        "cnn_model.add(Dense(10))\n",
        "\n",
        "# Build fully connected student.\n",
        "fc_model = tf.keras.Sequential()\n",
        "\n",
        "# your code start from here for step 2\n",
        "fc_model.add(Flatten())\n",
        "fc_model.add(Dense(784, activation='relu'))\n",
        "fc_model.add(Dense(784, activation='relu'))\n",
        "fc_model.add(Dense(10))\n"
      ],
      "metadata": {
        "id": "zINgDkA7P7BP",
        "cellView": "code"
      },
      "execution_count": null,
      "outputs": []
    },
    {
      "cell_type": "markdown",
      "source": [
        "# Teacher loss function"
      ],
      "metadata": {
        "id": "8JWGucyrQGav"
      }
    },
    {
      "cell_type": "code",
      "source": [
        "@tf.function\n",
        "def compute_teacher_loss(images, labels):\n",
        "  \"\"\"Compute subclass knowledge distillation teacher loss for given images\n",
        "     and labels.\n",
        "\n",
        "  Args:\n",
        "    images: Tensor representing a batch of images.\n",
        "    labels: Tensor representing a batch of labels.\n",
        "\n",
        "  Returns:\n",
        "    Scalar loss Tensor.\n",
        "  \"\"\"\n",
        "  subclass_logits = cnn_model(images, training=True)\n",
        "\n",
        "  # Compute cross-entropy loss for subclasses.\n",
        "\n",
        "  # your code start from here for step 3\n",
        "\n",
        "  # Referenced https://keras.io/api/losses/probabilistic_losses/#categoricalcrossentropy-class\n",
        "  # bce = tf.keras.losses.CategoricalCrossentropy(from_logits=True)\n",
        "  # cross_entropy_loss_value = bce(labels, subclass_logits).numpy()\n",
        "\n",
        "  cross_entropy_loss_value = tf.nn.softmax_cross_entropy_with_logits(labels, subclass_logits)\n",
        "\n",
        "  return cross_entropy_loss_value"
      ],
      "metadata": {
        "id": "DhzBP6ZLQJ57"
      },
      "execution_count": null,
      "outputs": []
    },
    {
      "cell_type": "markdown",
      "source": [
        "# Student loss function"
      ],
      "metadata": {
        "id": "JS8xkuH0QbOS"
      }
    },
    {
      "cell_type": "code",
      "source": [
        "#@test {\"output\": \"ignore\"}\n",
        "\n",
        "# Hyperparameters for distillation (need to be tuned).\n",
        "ALPHA = 0.5 # task balance between cross-entropy and distillation loss\n",
        "DISTILLATION_TEMPERATURE = 4. #temperature hyperparameter\n",
        "\n",
        "def distillation_loss(teacher_logits: tf.Tensor, student_logits: tf.Tensor,\n",
        "                      temperature: Union[float, tf.Tensor]):\n",
        "  \"\"\"Compute distillation loss.\n",
        "\n",
        "  This function computes cross entropy between softened logits and softened\n",
        "  targets. The resulting loss is scaled by the squared temperature so that\n",
        "  the gradient magnitude remains approximately constant as the temperature is\n",
        "  changed. For reference, see Hinton et al., 2014, \"Distilling the knowledge in\n",
        "  a neural network.\"\n",
        "\n",
        "  Args:\n",
        "    teacher_logits: A Tensor of logits provided by the teacher.\n",
        "    student_logits: A Tensor of logits provided by the student, of the same\n",
        "      shape as `teacher_logits`.\n",
        "    temperature: Temperature to use for distillation.\n",
        "\n",
        "  Returns:\n",
        "    A scalar Tensor containing the distillation loss.\n",
        "  \"\"\"\n",
        " # your code start from here for step 3\n",
        "  soft_targets = tf.nn.softmax(teacher_logits / temperature)\n",
        "\n",
        "  return tf.reduce_mean(\n",
        "      tf.nn.softmax_cross_entropy_with_logits(\n",
        "          soft_targets, student_logits / temperature)) * temperature ** 2\n",
        "\n",
        "def compute_student_loss(images, labels):\n",
        "  \"\"\"Compute subclass knowledge distillation student loss for given images\n",
        "     and labels.\n",
        "\n",
        "  Args:\n",
        "    images: Tensor representing a batch of images.\n",
        "    labels: Tensor representing a batch of labels.\n",
        "\n",
        "  Returns:\n",
        "    Scalar loss Tensor.\n",
        "  \"\"\"\n",
        "  student_subclass_logits = fc_model(images, training=True)\n",
        "\n",
        "  # Compute subclass distillation loss between student subclass logits and\n",
        "  # softened teacher subclass targets probabilities.\n",
        "\n",
        "  # your code start from here for step 3\n",
        "\n",
        "  teacher_subclass_logits = cnn_model(images, training=False)\n",
        "  distillation_loss_value = distillation_loss(teacher_subclass_logits, student_subclass_logits, DISTILLATION_TEMPERATURE)\n",
        "\n",
        "  # Compute cross-entropy loss with hard targets.\n",
        "\n",
        "  # your code start from here for step 3\n",
        "\n",
        "  cross_entropy_loss_value = ALPHA * tf.nn.softmax_cross_entropy_with_logits(labels, student_subclass_logits) + (1 - ALPHA) * distillation_loss_value\n",
        "  \n",
        "  return cross_entropy_loss_value"
      ],
      "metadata": {
        "id": "lDKia4gPQMIr",
        "cellView": "code"
      },
      "execution_count": null,
      "outputs": []
    },
    {
      "cell_type": "markdown",
      "source": [
        "# Train and evaluation"
      ],
      "metadata": {
        "id": "RJ1uyvurQ3w4"
      }
    },
    {
      "cell_type": "code",
      "source": [
        "@tf.function\n",
        "def compute_num_correct(model, images, labels):\n",
        "  \"\"\"Compute number of correctly classified images in a batch.\n",
        "\n",
        "  Args:\n",
        "    model: Instance of tf.keras.Model.\n",
        "    images: Tensor representing a batch of images.\n",
        "    labels: Tensor representing a batch of labels.\n",
        "\n",
        "  Returns:\n",
        "    Number of correctly classified images.\n",
        "  \"\"\"\n",
        "  class_logits = model(images, training=False)\n",
        "  return tf.reduce_sum(\n",
        "      tf.cast(tf.math.equal(tf.argmax(class_logits, -1), tf.argmax(labels, -1)),\n",
        "              tf.float32)), tf.argmax(class_logits, -1), tf.argmax(labels, -1)\n",
        "\n",
        "\n",
        "def train_and_evaluate(model, compute_loss_fn):\n",
        "  \"\"\"Perform training and evaluation for a given model.\n",
        "\n",
        "  Args:\n",
        "    model: Instance of tf.keras.Model.\n",
        "    compute_loss_fn: A function that computes the training loss given the\n",
        "      images, and labels.\n",
        "  \"\"\"\n",
        "\n",
        "  # your code start from here for step 4\n",
        "  optimizer = tf.keras.optimizers.Adam(learning_rate=0.001)\n",
        "\n",
        "  for epoch in range(1, NUM_EPOCHS + 1):\n",
        "    # Run training.\n",
        "    print('Epoch {}: '.format(epoch), end='')\n",
        "    for images, labels in mnist_train:\n",
        "      with tf.GradientTape() as tape:\n",
        "        # your code start from here for step 4\n",
        "        # subclass_logits = model(images, training=True)\n",
        "        loss_value = compute_loss_fn(images, labels)\n",
        "\n",
        "      grads = tape.gradient(loss_value, model.trainable_variables)\n",
        "      optimizer.apply_gradients(zip(grads, model.trainable_variables))\n",
        "\n",
        "    # Run evaluation.\n",
        "    num_correct = 0\n",
        "    num_total = builder.info.splits['test'].num_examples\n",
        "    for images, labels in mnist_test:\n",
        "      # your code start from here for step 4\n",
        "      num_correct += compute_num_correct(model, images, labels)[0].numpy()\n",
        "    print(\"Class_accuracy: \" + '{:.2f}%'.format(\n",
        "        num_correct / num_total * 100))\n"
      ],
      "metadata": {
        "id": "EtoLbp8uQ4Vl"
      },
      "execution_count": null,
      "outputs": []
    },
    {
      "cell_type": "markdown",
      "source": [
        "# Training models"
      ],
      "metadata": {
        "id": "NQL1lJdaRPT1"
      }
    },
    {
      "cell_type": "code",
      "source": [
        "from google.colab import drive\n",
        "drive.mount('/content/drive')\n",
        "import os\n",
        "os.chdir(r'/content/drive/My Drive/Colab Notebooks')"
      ],
      "metadata": {
        "colab": {
          "base_uri": "https://localhost:8080/"
        },
        "id": "2G-r9SHXZkPG",
        "outputId": "5fe2ce96-cf27-4ad4-b09b-d17d0d4ba83b"
      },
      "execution_count": null,
      "outputs": [
        {
          "output_type": "stream",
          "name": "stdout",
          "text": [
            "Mounted at /content/drive\n"
          ]
        }
      ]
    },
    {
      "cell_type": "code",
      "source": [
        "# your code start from here for step 5 \n",
        "\n",
        "# Teacher model:\n",
        "train_and_evaluate(cnn_model, compute_teacher_loss)"
      ],
      "metadata": {
        "id": "-AGHbyABRPz3",
        "colab": {
          "base_uri": "https://localhost:8080/"
        },
        "outputId": "316b4dbe-5d97-4ff1-87f9-1c9fff660f19"
      },
      "execution_count": null,
      "outputs": [
        {
          "output_type": "stream",
          "name": "stdout",
          "text": [
            "Epoch 1: Class_accuracy: 98.02%\n",
            "Epoch 2: Class_accuracy: 98.54%\n",
            "Epoch 3: Class_accuracy: 98.88%\n",
            "Epoch 4: Class_accuracy: 98.83%\n",
            "Epoch 5: Class_accuracy: 99.12%\n",
            "Epoch 6: Class_accuracy: 99.03%\n",
            "Epoch 7: Class_accuracy: 99.06%\n",
            "Epoch 8: Class_accuracy: 99.16%\n",
            "Epoch 9: Class_accuracy: 99.11%\n",
            "Epoch 10: Class_accuracy: 99.13%\n",
            "Epoch 11: Class_accuracy: 99.20%\n",
            "Epoch 12: Class_accuracy: 99.31%\n"
          ]
        }
      ]
    },
    {
      "cell_type": "code",
      "source": [
        "from keras.models import load_model\n",
        "\n",
        "# cnn_model.save(\"cnn_model.h5\")\n",
        "cnn_model=load_model('cnn_model.h5')"
      ],
      "metadata": {
        "colab": {
          "base_uri": "https://localhost:8080/"
        },
        "id": "SOlDrAx2xHR-",
        "outputId": "8610ddf4-bfcf-4506-965e-5c38843363fa"
      },
      "execution_count": null,
      "outputs": [
        {
          "output_type": "stream",
          "name": "stdout",
          "text": [
            "WARNING:tensorflow:No training configuration found in the save file, so the model was *not* compiled. Compile it manually.\n"
          ]
        },
        {
          "output_type": "stream",
          "name": "stderr",
          "text": [
            "WARNING:tensorflow:No training configuration found in the save file, so the model was *not* compiled. Compile it manually.\n"
          ]
        }
      ]
    },
    {
      "cell_type": "code",
      "source": [
        "# Student model\n",
        "train_and_evaluate(fc_model, compute_student_loss)"
      ],
      "metadata": {
        "colab": {
          "base_uri": "https://localhost:8080/"
        },
        "id": "i5uh-cXs8I8G",
        "outputId": "ae408c07-d55b-4d21-e92b-e399a13aca2f"
      },
      "execution_count": null,
      "outputs": [
        {
          "output_type": "stream",
          "name": "stdout",
          "text": [
            "Epoch 1: Class_accuracy: 96.85%\n",
            "Epoch 2: Class_accuracy: 97.84%\n",
            "Epoch 3: Class_accuracy: 98.26%\n",
            "Epoch 4: Class_accuracy: 98.42%\n",
            "Epoch 5: Class_accuracy: 98.48%\n",
            "Epoch 6: Class_accuracy: 98.61%\n",
            "Epoch 7: Class_accuracy: 98.65%\n",
            "Epoch 8: Class_accuracy: 98.79%\n",
            "Epoch 9: Class_accuracy: 98.76%\n",
            "Epoch 10: Class_accuracy: 98.83%\n",
            "Epoch 11: Class_accuracy: 98.80%\n",
            "Epoch 12: Class_accuracy: 98.92%\n"
          ]
        }
      ]
    },
    {
      "cell_type": "code",
      "source": [
        "from keras.models import load_model\n",
        "\n",
        "# fc_model.save(\"origin_fc_model.h5\")\n",
        "fc_model=load_model('origin_fc_model.h5')"
      ],
      "metadata": {
        "colab": {
          "base_uri": "https://localhost:8080/"
        },
        "id": "8HfXmHqUxsvb",
        "outputId": "6b2e7194-a1c0-4b4a-e7db-67d6edc7c4e4"
      },
      "execution_count": null,
      "outputs": [
        {
          "output_type": "stream",
          "name": "stdout",
          "text": [
            "WARNING:tensorflow:No training configuration found in the save file, so the model was *not* compiled. Compile it manually.\n"
          ]
        },
        {
          "output_type": "stream",
          "name": "stderr",
          "text": [
            "WARNING:tensorflow:No training configuration found in the save file, so the model was *not* compiled. Compile it manually.\n"
          ]
        }
      ]
    },
    {
      "cell_type": "code",
      "source": [
        "# Tune task balance parameter\n",
        "DISTILLATION_TEMPERATURE = 4.\n",
        "tune_balance = [0, 0.2, 0.4, 0.6, 0.8, 1]\n",
        "for i in tune_balance:\n",
        "  ALPHA = i\n",
        "  print(\"Task Balance: \" + str(ALPHA))\n",
        "\n",
        "  fc_model = tf.keras.Sequential()\n",
        "  fc_model.add(Flatten())\n",
        "  fc_model.add(Dense(784, activation='relu'))\n",
        "  fc_model.add(Dense(784, activation='relu'))\n",
        "  fc_model.add(Dense(10))\n",
        "  \n",
        "  train_and_evaluate(fc_model, compute_student_loss)"
      ],
      "metadata": {
        "colab": {
          "base_uri": "https://localhost:8080/"
        },
        "id": "GzARMjglW7re",
        "outputId": "7d861263-2e9b-4161-fe98-165530700ae6"
      },
      "execution_count": null,
      "outputs": [
        {
          "output_type": "stream",
          "name": "stdout",
          "text": [
            "Task Balance: 0\n",
            "Epoch 1: Class_accuracy: 96.79%\n",
            "Epoch 2: Class_accuracy: 97.81%\n",
            "Epoch 3: Class_accuracy: 98.21%\n",
            "Epoch 4: Class_accuracy: 98.44%\n",
            "Epoch 5: Class_accuracy: 98.59%\n",
            "Epoch 6: Class_accuracy: 98.70%\n",
            "Epoch 7: Class_accuracy: 98.79%\n",
            "Epoch 8: Class_accuracy: 98.73%\n",
            "Epoch 9: Class_accuracy: 98.86%\n",
            "Epoch 10: Class_accuracy: 98.83%\n",
            "Epoch 11: Class_accuracy: 98.90%\n",
            "Epoch 12: Class_accuracy: 98.89%\n",
            "Task Balance: 0.2\n",
            "Epoch 1: Class_accuracy: 96.97%\n",
            "Epoch 2: Class_accuracy: 97.89%\n",
            "Epoch 3: Class_accuracy: 98.16%\n",
            "Epoch 4: Class_accuracy: 98.36%\n",
            "Epoch 5: Class_accuracy: 98.48%\n",
            "Epoch 6: Class_accuracy: 98.70%\n",
            "Epoch 7: Class_accuracy: 98.73%\n",
            "Epoch 8: Class_accuracy: 98.72%\n",
            "Epoch 9: Class_accuracy: 98.73%\n",
            "Epoch 10: Class_accuracy: 98.75%\n",
            "Epoch 11: Class_accuracy: 98.87%\n",
            "Epoch 12: Class_accuracy: 98.90%\n",
            "Task Balance: 0.4\n",
            "Epoch 1: Class_accuracy: 96.84%\n",
            "Epoch 2: Class_accuracy: 97.79%\n",
            "Epoch 3: Class_accuracy: 98.25%\n",
            "Epoch 4: Class_accuracy: 98.39%\n",
            "Epoch 5: Class_accuracy: 98.61%\n",
            "Epoch 6: Class_accuracy: 98.69%\n",
            "Epoch 7: Class_accuracy: 98.74%\n",
            "Epoch 8: Class_accuracy: 98.71%\n",
            "Epoch 9: Class_accuracy: 98.78%\n",
            "Epoch 10: Class_accuracy: 98.85%\n",
            "Epoch 11: Class_accuracy: 98.90%\n",
            "Epoch 12: Class_accuracy: 98.91%\n",
            "Task Balance: 0.6\n",
            "Epoch 1: Class_accuracy: 96.92%\n",
            "Epoch 2: Class_accuracy: 97.77%\n",
            "Epoch 3: Class_accuracy: 98.22%\n",
            "Epoch 4: Class_accuracy: 98.44%\n",
            "Epoch 5: Class_accuracy: 98.52%\n",
            "Epoch 6: Class_accuracy: 98.62%\n",
            "Epoch 7: Class_accuracy: 98.82%\n",
            "Epoch 8: Class_accuracy: 98.81%\n",
            "Epoch 9: Class_accuracy: 98.82%\n",
            "Epoch 10: Class_accuracy: 98.84%\n",
            "Epoch 11: Class_accuracy: 98.78%\n",
            "Epoch 12: Class_accuracy: 98.85%\n",
            "Task Balance: 0.8\n",
            "Epoch 1: Class_accuracy: 97.02%\n",
            "Epoch 2: Class_accuracy: 97.85%\n",
            "Epoch 3: Class_accuracy: 98.18%\n",
            "Epoch 4: Class_accuracy: 98.31%\n",
            "Epoch 5: Class_accuracy: 98.48%\n",
            "Epoch 6: Class_accuracy: 98.67%\n",
            "Epoch 7: Class_accuracy: 98.73%\n",
            "Epoch 8: Class_accuracy: 98.77%\n",
            "Epoch 9: Class_accuracy: 98.88%\n",
            "Epoch 10: Class_accuracy: 98.79%\n",
            "Epoch 11: Class_accuracy: 98.72%\n",
            "Epoch 12: Class_accuracy: 98.77%\n",
            "Task Balance: 1\n",
            "Epoch 1: Class_accuracy: 96.52%\n",
            "Epoch 2: Class_accuracy: 97.65%\n",
            "Epoch 3: Class_accuracy: 97.91%\n",
            "Epoch 4: Class_accuracy: 98.07%\n",
            "Epoch 5: Class_accuracy: 98.11%\n",
            "Epoch 6: Class_accuracy: 98.00%\n",
            "Epoch 7: Class_accuracy: 97.73%\n",
            "Epoch 8: Class_accuracy: 97.93%\n",
            "Epoch 9: Class_accuracy: 97.85%\n",
            "Epoch 10: Class_accuracy: 98.23%\n",
            "Epoch 11: Class_accuracy: 98.06%\n",
            "Epoch 12: Class_accuracy: 97.77%\n"
          ]
        }
      ]
    },
    {
      "cell_type": "markdown",
      "source": [
        "# Test accuracy vs. tempreture curve"
      ],
      "metadata": {
        "id": "sj1N38fnRTNB"
      }
    },
    {
      "cell_type": "code",
      "source": [
        "# your code start from here for step 6\n",
        "ALPHA = 0.5\n",
        "tune_temp = [1., 2., 4., 16., 32., 64.]\n",
        "for i in tune_temp:\n",
        "  DISTILLATION_TEMPERATURE = i\n",
        "  print(\"Temperature: \" + str(DISTILLATION_TEMPERATURE))\n",
        "\n",
        "  fc_model = tf.keras.Sequential()\n",
        "  fc_model.add(Flatten())\n",
        "  fc_model.add(Dense(784, activation='relu'))\n",
        "  fc_model.add(Dense(784, activation='relu'))\n",
        "  fc_model.add(Dense(10))\n",
        "\n",
        "  train_and_evaluate(fc_model, compute_student_loss)"
      ],
      "metadata": {
        "id": "gX4dbazrRWIz",
        "colab": {
          "base_uri": "https://localhost:8080/"
        },
        "outputId": "110cf161-6555-4824-8e65-71fc629a0fa3"
      },
      "execution_count": null,
      "outputs": [
        {
          "output_type": "stream",
          "name": "stdout",
          "text": [
            "Temperature: 1.0\n",
            "Epoch 1: Class_accuracy: 96.69%\n",
            "Epoch 2: Class_accuracy: 97.47%\n",
            "Epoch 3: Class_accuracy: 98.16%\n",
            "Epoch 4: Class_accuracy: 97.74%\n",
            "Epoch 5: Class_accuracy: 98.05%\n",
            "Epoch 6: Class_accuracy: 98.07%\n",
            "Epoch 7: Class_accuracy: 98.01%\n",
            "Epoch 8: Class_accuracy: 98.28%\n",
            "Epoch 9: Class_accuracy: 98.19%\n",
            "Epoch 10: Class_accuracy: 98.12%\n",
            "Epoch 11: Class_accuracy: 98.26%\n",
            "Epoch 12: Class_accuracy: 98.50%\n",
            "Temperature: 2.0\n",
            "Epoch 1: Class_accuracy: 96.70%\n",
            "Epoch 2: Class_accuracy: 97.56%\n",
            "Epoch 3: Class_accuracy: 97.94%\n",
            "Epoch 4: Class_accuracy: 98.23%\n",
            "Epoch 5: Class_accuracy: 98.32%\n",
            "Epoch 6: Class_accuracy: 98.43%\n",
            "Epoch 7: Class_accuracy: 98.51%\n",
            "Epoch 8: Class_accuracy: 98.64%\n",
            "Epoch 9: Class_accuracy: 98.60%\n",
            "Epoch 10: Class_accuracy: 98.76%\n",
            "Epoch 11: Class_accuracy: 98.66%\n",
            "Epoch 12: Class_accuracy: 98.61%\n",
            "Temperature: 4.0\n",
            "Epoch 1: Class_accuracy: 96.75%\n",
            "Epoch 2: Class_accuracy: 97.95%\n",
            "Epoch 3: Class_accuracy: 98.37%\n",
            "Epoch 4: Class_accuracy: 98.46%\n",
            "Epoch 5: Class_accuracy: 98.62%\n",
            "Epoch 6: Class_accuracy: 98.76%\n",
            "Epoch 7: Class_accuracy: 98.73%\n",
            "Epoch 8: Class_accuracy: 98.72%\n",
            "Epoch 9: Class_accuracy: 98.85%\n",
            "Epoch 10: Class_accuracy: 98.84%\n",
            "Epoch 11: Class_accuracy: 98.88%\n",
            "Epoch 12: Class_accuracy: 98.86%\n",
            "Temperature: 16.0\n",
            "Epoch 1: Class_accuracy: 96.65%\n",
            "Epoch 2: Class_accuracy: 97.81%\n",
            "Epoch 3: Class_accuracy: 98.33%\n",
            "Epoch 4: Class_accuracy: 98.42%\n",
            "Epoch 5: Class_accuracy: 98.49%\n",
            "Epoch 6: Class_accuracy: 98.75%\n",
            "Epoch 7: Class_accuracy: 98.68%\n",
            "Epoch 8: Class_accuracy: 98.72%\n",
            "Epoch 9: Class_accuracy: 98.73%\n",
            "Epoch 10: Class_accuracy: 98.72%\n",
            "Epoch 11: Class_accuracy: 98.82%\n",
            "Epoch 12: Class_accuracy: 98.81%\n",
            "Temperature: 32.0\n",
            "Epoch 1: Class_accuracy: 96.72%\n",
            "Epoch 2: Class_accuracy: 97.83%\n",
            "Epoch 3: Class_accuracy: 98.15%\n",
            "Epoch 4: Class_accuracy: 98.41%\n",
            "Epoch 5: Class_accuracy: 98.48%\n",
            "Epoch 6: Class_accuracy: 98.67%\n",
            "Epoch 7: Class_accuracy: 98.60%\n",
            "Epoch 8: Class_accuracy: 98.65%\n",
            "Epoch 9: Class_accuracy: 98.69%\n",
            "Epoch 10: Class_accuracy: 98.77%\n",
            "Epoch 11: Class_accuracy: 98.79%\n",
            "Epoch 12: Class_accuracy: 98.84%\n",
            "Temperature: 64.0\n",
            "Epoch 1: Class_accuracy: 96.92%\n",
            "Epoch 2: Class_accuracy: 97.80%\n",
            "Epoch 3: Class_accuracy: 98.23%\n",
            "Epoch 4: Class_accuracy: 98.51%\n",
            "Epoch 5: Class_accuracy: 98.58%\n",
            "Epoch 6: Class_accuracy: 98.63%\n",
            "Epoch 7: Class_accuracy: 98.73%\n",
            "Epoch 8: Class_accuracy: 98.67%\n",
            "Epoch 9: Class_accuracy: 98.73%\n",
            "Epoch 10: Class_accuracy: 98.71%\n",
            "Epoch 11: Class_accuracy: 98.80%\n",
            "Epoch 12: Class_accuracy: 98.77%\n"
          ]
        }
      ]
    },
    {
      "cell_type": "markdown",
      "source": [
        "# Train student from scratch"
      ],
      "metadata": {
        "id": "WNrH_1emRbGA"
      }
    },
    {
      "cell_type": "code",
      "source": [
        "# Build fully connected student.\n",
        "fc_model_no_distillation = tf.keras.Sequential()\n",
        "\n",
        "# your code start from here for step 7\n",
        "fc_model_no_distillation.add(Flatten())\n",
        "fc_model_no_distillation.add(Dense(784, activation='relu'))\n",
        "fc_model_no_distillation.add(Dense(784, activation='relu'))\n",
        "fc_model_no_distillation.add(Dense(10))\n",
        "\n",
        "#@test {\"output\": \"ignore\"}\n",
        "\n",
        "def compute_plain_cross_entropy_loss(images, labels):\n",
        "  \"\"\"Compute plain loss for given images and labels.\n",
        "\n",
        "  For fair comparison and convenience, this function also performs a\n",
        "  LogSumExp over subclasses, but does not perform subclass distillation.\n",
        "\n",
        "  Args:\n",
        "    images: Tensor representing a batch of images.\n",
        "    labels: Tensor representing a batch of labels.\n",
        "\n",
        "  Returns:\n",
        "    Scalar loss Tensor.\n",
        "  \"\"\"\n",
        "  # your code start from here for step 7\n",
        "\n",
        "  student_subclass_logits = fc_model_no_distillation(images, training=True)\n",
        "  cross_entropy_loss = tf.nn.softmax_cross_entropy_with_logits(labels, student_subclass_logits)\n",
        "  \n",
        "  return cross_entropy_loss\n",
        "\n",
        "# Student from scratch\n",
        "train_and_evaluate(fc_model_no_distillation, compute_plain_cross_entropy_loss)"
      ],
      "metadata": {
        "id": "HjospsxIRbQ6",
        "colab": {
          "base_uri": "https://localhost:8080/"
        },
        "cellView": "code",
        "outputId": "3e8c1ea0-6c55-4312-b603-01ec373cd710"
      },
      "execution_count": null,
      "outputs": [
        {
          "output_type": "stream",
          "name": "stdout",
          "text": [
            "Epoch 1: Class_accuracy: 96.79%\n",
            "Epoch 2: Class_accuracy: 97.71%\n",
            "Epoch 3: Class_accuracy: 97.82%\n",
            "Epoch 4: Class_accuracy: 98.08%\n",
            "Epoch 5: Class_accuracy: 97.91%\n",
            "Epoch 6: Class_accuracy: 98.14%\n",
            "Epoch 7: Class_accuracy: 97.88%\n",
            "Epoch 8: Class_accuracy: 97.81%\n",
            "Epoch 9: Class_accuracy: 97.96%\n",
            "Epoch 10: Class_accuracy: 97.94%\n",
            "Epoch 11: Class_accuracy: 98.13%\n",
            "Epoch 12: Class_accuracy: 98.13%\n"
          ]
        }
      ]
    },
    {
      "cell_type": "code",
      "source": [
        "from keras.models import load_model\n",
        "\n",
        "# fc_model_no_distillation.save(\"nd_fc_model.h5\")\n",
        "fc_model_no_distillation=load_model('nd_fc_model.h5')"
      ],
      "metadata": {
        "colab": {
          "base_uri": "https://localhost:8080/"
        },
        "id": "wF9xe7TOiDuz",
        "outputId": "f9279e67-f91c-424f-dcf2-4c5f1665f099"
      },
      "execution_count": null,
      "outputs": [
        {
          "output_type": "stream",
          "name": "stdout",
          "text": [
            "WARNING:tensorflow:No training configuration found in the save file, so the model was *not* compiled. Compile it manually.\n"
          ]
        },
        {
          "output_type": "stream",
          "name": "stderr",
          "text": [
            "WARNING:tensorflow:No training configuration found in the save file, so the model was *not* compiled. Compile it manually.\n"
          ]
        }
      ]
    },
    {
      "cell_type": "markdown",
      "source": [
        "# Comparing the teacher and student model (number of of parameters and FLOPs) "
      ],
      "metadata": {
        "id": "yq3JTpQ4RuhR"
      }
    },
    {
      "cell_type": "code",
      "source": [
        "# your code start from here for step 8\n",
        "!pip install keras-flops\n",
        "from keras_flops import get_flops\n",
        "\n",
        "print(\"--------------------------------------------------------------------------------------------\")\n",
        "\n",
        "cnn_model.summary()\n",
        "fc_model.summary()\n",
        "\n",
        "teacher_flops = get_flops(cnn_model, batch_size=1)\n",
        "student_flops = get_flops(fc_model, batch_size=1)\n",
        "print(\"FLOPs of Teacher Model: \" + str(teacher_flops))\n",
        "print(\"FLOPs of Student Model: \" + str(student_flops))"
      ],
      "metadata": {
        "id": "4V8GB2yRRuxF",
        "colab": {
          "base_uri": "https://localhost:8080/"
        },
        "outputId": "47883396-65ff-4d4f-eb01-046c72816952"
      },
      "execution_count": null,
      "outputs": [
        {
          "output_type": "stream",
          "name": "stdout",
          "text": [
            "Requirement already satisfied: keras-flops in /usr/local/lib/python3.7/dist-packages (0.1.2)\n",
            "Requirement already satisfied: tensorflow<3.0,>=2.2 in /usr/local/lib/python3.7/dist-packages (from keras-flops) (2.8.0)\n",
            "Requirement already satisfied: keras-preprocessing>=1.1.1 in /usr/local/lib/python3.7/dist-packages (from tensorflow<3.0,>=2.2->keras-flops) (1.1.2)\n",
            "Requirement already satisfied: absl-py>=0.4.0 in /usr/local/lib/python3.7/dist-packages (from tensorflow<3.0,>=2.2->keras-flops) (1.0.0)\n",
            "Requirement already satisfied: numpy>=1.20 in /usr/local/lib/python3.7/dist-packages (from tensorflow<3.0,>=2.2->keras-flops) (1.21.5)\n",
            "Requirement already satisfied: astunparse>=1.6.0 in /usr/local/lib/python3.7/dist-packages (from tensorflow<3.0,>=2.2->keras-flops) (1.6.3)\n",
            "Requirement already satisfied: libclang>=9.0.1 in /usr/local/lib/python3.7/dist-packages (from tensorflow<3.0,>=2.2->keras-flops) (13.0.0)\n",
            "Requirement already satisfied: protobuf>=3.9.2 in /usr/local/lib/python3.7/dist-packages (from tensorflow<3.0,>=2.2->keras-flops) (3.17.3)\n",
            "Requirement already satisfied: tensorflow-io-gcs-filesystem>=0.23.1 in /usr/local/lib/python3.7/dist-packages (from tensorflow<3.0,>=2.2->keras-flops) (0.24.0)\n",
            "Requirement already satisfied: typing-extensions>=3.6.6 in /usr/local/lib/python3.7/dist-packages (from tensorflow<3.0,>=2.2->keras-flops) (3.10.0.2)\n",
            "Requirement already satisfied: setuptools in /usr/local/lib/python3.7/dist-packages (from tensorflow<3.0,>=2.2->keras-flops) (57.4.0)\n",
            "Requirement already satisfied: h5py>=2.9.0 in /usr/local/lib/python3.7/dist-packages (from tensorflow<3.0,>=2.2->keras-flops) (3.1.0)\n",
            "Requirement already satisfied: grpcio<2.0,>=1.24.3 in /usr/local/lib/python3.7/dist-packages (from tensorflow<3.0,>=2.2->keras-flops) (1.44.0)\n",
            "Requirement already satisfied: tensorboard<2.9,>=2.8 in /usr/local/lib/python3.7/dist-packages (from tensorflow<3.0,>=2.2->keras-flops) (2.8.0)\n",
            "Requirement already satisfied: opt-einsum>=2.3.2 in /usr/local/lib/python3.7/dist-packages (from tensorflow<3.0,>=2.2->keras-flops) (3.3.0)\n",
            "Requirement already satisfied: keras<2.9,>=2.8.0rc0 in /usr/local/lib/python3.7/dist-packages (from tensorflow<3.0,>=2.2->keras-flops) (2.8.0)\n",
            "Requirement already satisfied: google-pasta>=0.1.1 in /usr/local/lib/python3.7/dist-packages (from tensorflow<3.0,>=2.2->keras-flops) (0.2.0)\n",
            "Requirement already satisfied: tf-estimator-nightly==2.8.0.dev2021122109 in /usr/local/lib/python3.7/dist-packages (from tensorflow<3.0,>=2.2->keras-flops) (2.8.0.dev2021122109)\n",
            "Requirement already satisfied: flatbuffers>=1.12 in /usr/local/lib/python3.7/dist-packages (from tensorflow<3.0,>=2.2->keras-flops) (2.0)\n",
            "Requirement already satisfied: wrapt>=1.11.0 in /usr/local/lib/python3.7/dist-packages (from tensorflow<3.0,>=2.2->keras-flops) (1.13.3)\n",
            "Requirement already satisfied: gast>=0.2.1 in /usr/local/lib/python3.7/dist-packages (from tensorflow<3.0,>=2.2->keras-flops) (0.5.3)\n",
            "Requirement already satisfied: termcolor>=1.1.0 in /usr/local/lib/python3.7/dist-packages (from tensorflow<3.0,>=2.2->keras-flops) (1.1.0)\n",
            "Requirement already satisfied: six>=1.12.0 in /usr/local/lib/python3.7/dist-packages (from tensorflow<3.0,>=2.2->keras-flops) (1.15.0)\n",
            "Requirement already satisfied: wheel<1.0,>=0.23.0 in /usr/local/lib/python3.7/dist-packages (from astunparse>=1.6.0->tensorflow<3.0,>=2.2->keras-flops) (0.37.1)\n",
            "Requirement already satisfied: cached-property in /usr/local/lib/python3.7/dist-packages (from h5py>=2.9.0->tensorflow<3.0,>=2.2->keras-flops) (1.5.2)\n",
            "Requirement already satisfied: google-auth-oauthlib<0.5,>=0.4.1 in /usr/local/lib/python3.7/dist-packages (from tensorboard<2.9,>=2.8->tensorflow<3.0,>=2.2->keras-flops) (0.4.6)\n",
            "Requirement already satisfied: tensorboard-data-server<0.7.0,>=0.6.0 in /usr/local/lib/python3.7/dist-packages (from tensorboard<2.9,>=2.8->tensorflow<3.0,>=2.2->keras-flops) (0.6.1)\n",
            "Requirement already satisfied: requests<3,>=2.21.0 in /usr/local/lib/python3.7/dist-packages (from tensorboard<2.9,>=2.8->tensorflow<3.0,>=2.2->keras-flops) (2.23.0)\n",
            "Requirement already satisfied: tensorboard-plugin-wit>=1.6.0 in /usr/local/lib/python3.7/dist-packages (from tensorboard<2.9,>=2.8->tensorflow<3.0,>=2.2->keras-flops) (1.8.1)\n",
            "Requirement already satisfied: google-auth<3,>=1.6.3 in /usr/local/lib/python3.7/dist-packages (from tensorboard<2.9,>=2.8->tensorflow<3.0,>=2.2->keras-flops) (1.35.0)\n",
            "Requirement already satisfied: werkzeug>=0.11.15 in /usr/local/lib/python3.7/dist-packages (from tensorboard<2.9,>=2.8->tensorflow<3.0,>=2.2->keras-flops) (1.0.1)\n",
            "Requirement already satisfied: markdown>=2.6.8 in /usr/local/lib/python3.7/dist-packages (from tensorboard<2.9,>=2.8->tensorflow<3.0,>=2.2->keras-flops) (3.3.6)\n",
            "Requirement already satisfied: rsa<5,>=3.1.4 in /usr/local/lib/python3.7/dist-packages (from google-auth<3,>=1.6.3->tensorboard<2.9,>=2.8->tensorflow<3.0,>=2.2->keras-flops) (4.8)\n",
            "Requirement already satisfied: pyasn1-modules>=0.2.1 in /usr/local/lib/python3.7/dist-packages (from google-auth<3,>=1.6.3->tensorboard<2.9,>=2.8->tensorflow<3.0,>=2.2->keras-flops) (0.2.8)\n",
            "Requirement already satisfied: cachetools<5.0,>=2.0.0 in /usr/local/lib/python3.7/dist-packages (from google-auth<3,>=1.6.3->tensorboard<2.9,>=2.8->tensorflow<3.0,>=2.2->keras-flops) (4.2.4)\n",
            "Requirement already satisfied: requests-oauthlib>=0.7.0 in /usr/local/lib/python3.7/dist-packages (from google-auth-oauthlib<0.5,>=0.4.1->tensorboard<2.9,>=2.8->tensorflow<3.0,>=2.2->keras-flops) (1.3.1)\n",
            "Requirement already satisfied: importlib-metadata>=4.4 in /usr/local/lib/python3.7/dist-packages (from markdown>=2.6.8->tensorboard<2.9,>=2.8->tensorflow<3.0,>=2.2->keras-flops) (4.11.2)\n",
            "Requirement already satisfied: zipp>=0.5 in /usr/local/lib/python3.7/dist-packages (from importlib-metadata>=4.4->markdown>=2.6.8->tensorboard<2.9,>=2.8->tensorflow<3.0,>=2.2->keras-flops) (3.7.0)\n",
            "Requirement already satisfied: pyasn1<0.5.0,>=0.4.6 in /usr/local/lib/python3.7/dist-packages (from pyasn1-modules>=0.2.1->google-auth<3,>=1.6.3->tensorboard<2.9,>=2.8->tensorflow<3.0,>=2.2->keras-flops) (0.4.8)\n",
            "Requirement already satisfied: urllib3!=1.25.0,!=1.25.1,<1.26,>=1.21.1 in /usr/local/lib/python3.7/dist-packages (from requests<3,>=2.21.0->tensorboard<2.9,>=2.8->tensorflow<3.0,>=2.2->keras-flops) (1.24.3)\n",
            "Requirement already satisfied: chardet<4,>=3.0.2 in /usr/local/lib/python3.7/dist-packages (from requests<3,>=2.21.0->tensorboard<2.9,>=2.8->tensorflow<3.0,>=2.2->keras-flops) (3.0.4)\n",
            "Requirement already satisfied: idna<3,>=2.5 in /usr/local/lib/python3.7/dist-packages (from requests<3,>=2.21.0->tensorboard<2.9,>=2.8->tensorflow<3.0,>=2.2->keras-flops) (2.10)\n",
            "Requirement already satisfied: certifi>=2017.4.17 in /usr/local/lib/python3.7/dist-packages (from requests<3,>=2.21.0->tensorboard<2.9,>=2.8->tensorflow<3.0,>=2.2->keras-flops) (2021.10.8)\n",
            "Requirement already satisfied: oauthlib>=3.0.0 in /usr/local/lib/python3.7/dist-packages (from requests-oauthlib>=0.7.0->google-auth-oauthlib<0.5,>=0.4.1->tensorboard<2.9,>=2.8->tensorflow<3.0,>=2.2->keras-flops) (3.2.0)\n",
            "--------------------------------------------------------------------------------------------\n",
            "Model: \"sequential_2\"\n",
            "_________________________________________________________________\n",
            " Layer (type)                Output Shape              Param #   \n",
            "=================================================================\n",
            " conv2d_2 (Conv2D)           (None, 26, 26, 32)        320       \n",
            "                                                                 \n",
            " max_pooling2d_2 (MaxPooling  (None, 25, 25, 32)       0         \n",
            " 2D)                                                             \n",
            "                                                                 \n",
            " conv2d_3 (Conv2D)           (None, 23, 23, 64)        18496     \n",
            "                                                                 \n",
            " max_pooling2d_3 (MaxPooling  (None, 11, 11, 64)       0         \n",
            " 2D)                                                             \n",
            "                                                                 \n",
            " flatten_2 (Flatten)         (None, 7744)              0         \n",
            "                                                                 \n",
            " dropout_2 (Dropout)         (None, 7744)              0         \n",
            "                                                                 \n",
            " dense_5 (Dense)             (None, 128)               991360    \n",
            "                                                                 \n",
            " dropout_3 (Dropout)         (None, 128)               0         \n",
            "                                                                 \n",
            " dense_6 (Dense)             (None, 10)                1290      \n",
            "                                                                 \n",
            "=================================================================\n",
            "Total params: 1,011,466\n",
            "Trainable params: 1,011,466\n",
            "Non-trainable params: 0\n",
            "_________________________________________________________________\n",
            "Model: \"sequential_3\"\n",
            "_________________________________________________________________\n",
            " Layer (type)                Output Shape              Param #   \n",
            "=================================================================\n",
            " flatten_3 (Flatten)         (None, 784)               0         \n",
            "                                                                 \n",
            " dense_7 (Dense)             (None, 784)               615440    \n",
            "                                                                 \n",
            " dense_8 (Dense)             (None, 784)               615440    \n",
            "                                                                 \n",
            " dense_9 (Dense)             (None, 10)                7850      \n",
            "                                                                 \n",
            "=================================================================\n",
            "Total params: 1,238,730\n",
            "Trainable params: 1,238,730\n",
            "Non-trainable params: 0\n",
            "_________________________________________________________________\n",
            "WARNING:tensorflow:Layers in a Sequential model should only have a single input tensor. Received: inputs=[<tf.Tensor 'args_0:0' shape=(1, 28, 28, 1) dtype=float32>]. Consider rewriting this model with the Functional API.\n"
          ]
        },
        {
          "output_type": "stream",
          "name": "stderr",
          "text": [
            "WARNING:tensorflow:Layers in a Sequential model should only have a single input tensor. Received: inputs=[<tf.Tensor 'args_0:0' shape=(1, 28, 28, 1) dtype=float32>]. Consider rewriting this model with the Functional API.\n"
          ]
        },
        {
          "output_type": "stream",
          "name": "stdout",
          "text": [
            "FLOPs of Teacher Model: 22042058\n",
            "FLOPs of Student Model: 2475882\n"
          ]
        }
      ]
    },
    {
      "cell_type": "markdown",
      "source": [
        "# XAI method to explain models"
      ],
      "metadata": {
        "id": "8b5yNhJfRu-7"
      }
    },
    {
      "cell_type": "code",
      "source": [
        "# your code start from here for step 9\n",
        "# Refered to the notebooks of Project 1\n",
        "import numpy as np\n",
        "from google.colab import drive\n",
        "drive.mount('/content/drive')\n",
        "\n",
        "import os\n",
        "os.chdir(r'/content/drive/My Drive/Colab Notebooks')\n",
        "\n",
        "from xai_utils import *\n",
        "\n",
        "# Need to change the function a little bit...\n",
        "def RISE(img, model, class_index, N_MASKS=8000, H=28, W=28, C=1):\n",
        "    '''\n",
        "\timg: a 3-D input image\n",
        "\tmodel: a trained model\n",
        "\tclass_index; The class of interest\n",
        "\tN_MASKS: The number of random masks to be generated\n",
        "\tH,W,C: The desired dimensions of the random masks\n",
        "\t'''\n",
        "    X = np.zeros(shape=(N_MASKS, H, W, C), dtype=np.float32)\n",
        "    masks = np.zeros((N_MASKS,H,W), dtype=np.float32)\n",
        "    #for i in tqdm(range(N_MASKS)):\n",
        "    for i in range(N_MASKS):\n",
        "        m =create_random_mask(H=H, W=W)\n",
        "        masks[i] = m\n",
        "        x = img.copy()\n",
        "        x[:, :, 0] *= m\n",
        "        X[i] = x\n",
        "    preds_masked = model.predict(X, verbose=0)\n",
        "    sum_mask = np.zeros(masks[0].shape, dtype=np.float32)\n",
        "\n",
        "    # np.einsum???\n",
        "    for i, mask in enumerate(masks):\n",
        "        m = mask * preds_masked[i, class_index]\n",
        "        sum_mask += m\n",
        "\n",
        "    sum_mask -= np.min(sum_mask)\n",
        "    sum_mask /= np.max(sum_mask)\n",
        "    return sum_mask"
      ],
      "metadata": {
        "colab": {
          "base_uri": "https://localhost:8080/"
        },
        "id": "f0BZ7gfOuB1Z",
        "outputId": "b2ff688f-54ed-44c4-b0a2-1b246bb0eafa"
      },
      "execution_count": null,
      "outputs": [
        {
          "output_type": "stream",
          "name": "stdout",
          "text": [
            "Drive already mounted at /content/drive; to attempt to forcibly remount, call drive.mount(\"/content/drive\", force_remount=True).\n"
          ]
        }
      ]
    },
    {
      "cell_type": "code",
      "source": [
        "image_sample = 0\n",
        "label_sample = 0\n",
        "for images, labels in mnist_test:\n",
        "  image_sample = images[4]\n",
        "  label_sample = labels[4]\n",
        "  break\n",
        "\n",
        "# RISE\n",
        "# teacher model\n",
        "explanation_map_teacher = RISE(image_sample.numpy(), cnn_model, class_index=np.argmax(label_sample) ,N_MASKS=1000)\n",
        "explanation_map_teacher -= explanation_map_teacher.min()\n",
        "explanation_map_teacher /= explanation_map_teacher.max()+10e-30\n",
        "\n",
        "# student model with distillation\n",
        "explanation_map_student = RISE(image_sample.numpy(), fc_model, class_index=np.argmax(label_sample) ,N_MASKS=1000)\n",
        "explanation_map_student -= explanation_map_student.min()\n",
        "explanation_map_student /= explanation_map_student.max()+10e-30\n",
        "\n",
        "# student model without distillation\n",
        "explanation_map_student_nd = RISE(image_sample.numpy(), fc_model_no_distillation, class_index=np.argmax(label_sample) ,N_MASKS=1000)\n",
        "explanation_map_student_nd -= explanation_map_student_nd.min()\n",
        "explanation_map_student_nd /= explanation_map_student_nd.max()+10e-30\n"
      ],
      "metadata": {
        "id": "yFgp5kA5RvID"
      },
      "execution_count": null,
      "outputs": []
    },
    {
      "cell_type": "code",
      "source": [
        "import matplotlib.pyplot as plt\n",
        "\n",
        "# plt.subplot(1,4,1)\n",
        "plt.imshow(np.squeeze(image_sample), cmap=\"gray\")\n",
        "plt.axis('off')\n",
        "plt.title('Sample image')\n",
        "plt.show()\n",
        "\n",
        "# plt.subplot(1,4,2)\n",
        "plt.imshow(np.squeeze(image_sample), cmap=\"gray\")\n",
        "plt.imshow(explanation_map_teacher, cmap='jet', alpha=0.5)\n",
        "plt.axis('off')\n",
        "plt.title('Explanation of teacher')\n",
        "plt.show()\n",
        "\n",
        "# plt.subplot(1,4,3)\n",
        "plt.imshow(np.squeeze(image_sample), cmap=\"gray\")\n",
        "plt.imshow(explanation_map_student, cmap='jet', alpha=0.5)\n",
        "plt.axis('off')\n",
        "plt.title('Explanation of student (with distillation)')\n",
        "plt.show()\n",
        "\n",
        "# plt.subplot(1,4,4)\n",
        "plt.imshow(np.squeeze(image_sample), cmap=\"gray\")\n",
        "plt.imshow(explanation_map_student_nd, cmap='jet', alpha=0.5)\n",
        "plt.axis('off')\n",
        "plt.title('Explanation of student (without distillation)')\n",
        "plt.show()"
      ],
      "metadata": {
        "colab": {
          "base_uri": "https://localhost:8080/",
          "height": 1000
        },
        "id": "ZV3XdO6qgOQL",
        "outputId": "224dab1d-4817-4893-df97-c01be2685bb5"
      },
      "execution_count": null,
      "outputs": [
        {
          "output_type": "display_data",
          "data": {
            "text/plain": [
              "<Figure size 432x288 with 1 Axes>"
            ],
            "image/png": "[encoded data removed]"
          },
          "metadata": {
            "needs_background": "light"
          }
        },
        {
          "output_type": "display_data",
          "data": {
            "text/plain": [
              "<Figure size 432x288 with 1 Axes>"
            ],
            "image/png": "[encoded data removed]"
          },
          "metadata": {
            "needs_background": "light"
          }
        },
        {
          "output_type": "display_data",
          "data": {
            "text/plain": [
              "<Figure size 432x288 with 1 Axes>"
            ],
            "image/png": "[encoded data removed]"
          },
          "metadata": {
            "needs_background": "light"
          }
        },
        {
          "output_type": "display_data",
          "data": {
            "text/plain": [
              "<Figure size 432x288 with 1 Axes>"
            ],
            "image/png": "[encoded data removed]"
          },
          "metadata": {
            "needs_background": "light"
          }
        }
      ]
    },
    {
      "cell_type": "markdown",
      "source": [
        "# Implementing the state-of-the-art KD algorithm"
      ],
      "metadata": {
        "id": "KjwJ5oziRvRn"
      }
    },
    {
      "cell_type": "code",
      "source": [
        "# your code start from here for step 13"
      ],
      "metadata": {
        "id": "N7CvoLIEjVtl"
      },
      "execution_count": null,
      "outputs": []
    },
    {
      "cell_type": "code",
      "source": [
        "# Referenced https://github.com/google-research/google-research/tree/01d59138d2a41465b25cdbb569524ad6ba1faaf1/subclass_distillation\n",
        "\n",
        "# Cited as:\n",
        "# @article{muller2020subclass,\n",
        "# title={Subclass distillation},\n",
        "# author={M{\\\"u}ller, Rafael and Kornblith, Simon and Hinton, Geoffrey},\n",
        "# journal={arXiv preprint arXiv:2002.03936},\n",
        "# year={2020}\n",
        "# }"
      ],
      "metadata": {
        "id": "3fX1zZCGf6nD"
      },
      "execution_count": null,
      "outputs": []
    },
    {
      "cell_type": "code",
      "source": [
        "NUM_CLASSES = 2\n",
        "NUM_SUBCLASSES = 10\n",
        "ALPHA = 0.5\n",
        "DISTILLATION_TEMPERATURE = 4.\n",
        "BETA = 1.0\n",
        "AUXILIARY_TEMPERATURE = 1.0"
      ],
      "metadata": {
        "id": "ZBDR6efW2VE0"
      },
      "execution_count": 27,
      "outputs": []
    },
    {
      "cell_type": "code",
      "source": [
        "# Load dataset\n",
        "def preprocess(x):\n",
        "  image = tf.image.convert_image_dtype(x['image'], tf.float32)\n",
        "  subclass_labels = tf.one_hot(x['label'], builder.info.features['label'].num_classes)\n",
        "  labels = tf.reduce_sum(tf.reshape(subclass_labels, (NUM_CLASSES, NUM_SUBCLASSES // NUM_CLASSES)), -1)\n",
        "  return image, labels\n",
        "\n",
        "mnist_train = tfds.load('mnist', split='train', shuffle_files=False).cache()\n",
        "mnist_train = mnist_train.map(preprocess)\n",
        "mnist_train = mnist_train.shuffle(builder.info.splits['train'].num_examples)\n",
        "mnist_train = mnist_train.batch(BATCH_SIZE, drop_remainder=True)\n",
        "\n",
        "mnist_test = tfds.load('mnist', split='test').cache()\n",
        "mnist_test = mnist_test.map(preprocess).batch(BATCH_SIZE)"
      ],
      "metadata": {
        "id": "nWJzYfYLg_wT"
      },
      "execution_count": 28,
      "outputs": []
    },
    {
      "cell_type": "code",
      "source": [
        "# Model Creation\n",
        "\n",
        "# teacher\n",
        "cnn_model = tf.keras.Sequential()\n",
        "\n",
        "cnn_model.add(Conv2D(32, kernel_size=(3, 3), strides=(1, 1), activation='relu', input_shape=(28, 28, 1)))\n",
        "cnn_model.add(MaxPooling2D(pool_size=(2, 2), strides=(1, 1)))\n",
        "cnn_model.add(Conv2D(64, kernel_size=(3, 3), strides=(1, 1), activation='relu'))\n",
        "cnn_model.add(MaxPooling2D(pool_size=(2, 2), strides=(2, 2)))\n",
        "cnn_model.add(Flatten())\n",
        "cnn_model.add(Dropout(0.5))\n",
        "cnn_model.add(Dense(128, activation='relu'))\n",
        "cnn_model.add(Dropout(0.5))\n",
        "cnn_model.add(Dense(10))\n",
        "\n",
        "# student\n",
        "fc_model = tf.keras.Sequential()\n",
        "\n",
        "fc_model.add(Flatten())\n",
        "fc_model.add(Dense(784, activation='relu'))\n",
        "fc_model.add(Dense(784, activation='relu'))\n",
        "fc_model.add(Dense(10))"
      ],
      "metadata": {
        "id": "xoFM7O7f4jQJ"
      },
      "execution_count": 29,
      "outputs": []
    },
    {
      "cell_type": "code",
      "source": [
        "# teacher functions\n",
        "def auxiliary_loss(subclass_logits: tf.Tensor, temperature: Union[float, tf.Tensor]):\n",
        "\n",
        "  # convert to tensor\n",
        "  temperature = tf.convert_to_tensor(temperature, dtype=subclass_logits.dtype)\n",
        "\n",
        "  # needed for normalization\n",
        "  mean, vari = tf.nn.moments(subclass_logits, -1, keepdims=True)\n",
        "  num_subclasses = tf.convert_to_tensor(NUM_SUBCLASSES / NUM_CLASSES, dtype=subclass_logits.dtype)\n",
        "\n",
        "  # Use the value of the official implementation\n",
        "  e = tf.convert_to_tensor(1e-9, dtype=subclass_logits.dtype)\n",
        "\n",
        "  # normalized vi hat\n",
        "  vi = tf.nn.batch_normalization(subclass_logits, mean=mean, variance=vari, offset=None, scale=1./ tf.sqrt(temperature * num_subclasses), variance_epsilon=e)\n",
        "  n = tf.cast(BATCH_SIZE, subclass_logits.dtype)\n",
        "\n",
        "  products = tf.linalg.matmul(vi, vi, transpose_b=True)\n",
        "  return (tf.math.reduce_mean(tf.math.reduce_logsumexp(products, -1)) - 1/temperature -tf.math.log(n))\n",
        "\n",
        "def compute_teacher_loss(images, labels):\n",
        "\n",
        "  subclass_logits = cnn_model(images, training=True)\n",
        "\n",
        "  # cross entropy \n",
        "  subclass_logits = tf.reshape(subclass_logits, (-1, NUM_CLASSES, NUM_SUBCLASSES // NUM_CLASSES))\n",
        "  class_logits = tf.math.reduce_logsumexp(subclass_logits, -1)\n",
        "  cross_entropy_loss_value = tf.nn.softmax_cross_entropy_with_logits(labels, class_logits)\n",
        "\n",
        "  # auxiliary loss\n",
        "  auxiliary_loss_value = auxiliary_loss(subclass_logits, AUXILIARY_TEMPERATURE)\n",
        "\n",
        "  # total loss value\n",
        "  loss_value = cross_entropy_loss_value + BETA * auxiliary_loss_value\n",
        "\n",
        "  return loss_value"
      ],
      "metadata": {
        "id": "q10lybAFRvZt"
      },
      "execution_count": 30,
      "outputs": []
    },
    {
      "cell_type": "code",
      "source": [
        "# student\n",
        "def distillation_loss(teacher_logits: tf.Tensor, student_logits: tf.Tensor, temperature: Union[float, tf.Tensor]):\n",
        "\n",
        "  soft_targets = tf.nn.softmax(teacher_logits / temperature)\n",
        "  return tf.reduce_mean(\n",
        "      tf.nn.softmax_cross_entropy_with_logits(\n",
        "          soft_targets, student_logits / temperature)) * temperature ** 2\n",
        "\n",
        "\n",
        "def compute_student_loss(images, labels):\n",
        "\n",
        "  student_subclass_logits = fc_model(images, training=True)\n",
        "\n",
        "  teacher_subclass_logits = cnn_model(images, training=False)\n",
        "  distillation_loss_value = distillation_loss(teacher_subclass_logits, student_subclass_logits, DISTILLATION_TEMPERATURE)\n",
        "\n",
        "  subclass_logits = tf.reshape(student_subclass_logits, (-1, NUM_CLASSES, NUM_SUBCLASSES // NUM_CLASSES))\n",
        "  class_logits = tf.math.reduce_logsumexp(subclass_logits, -1)\n",
        "\n",
        "  cross_entropy_loss_value = ALPHA * tf.nn.softmax_cross_entropy_with_logits(labels, class_logits) + (1 - ALPHA) * distillation_loss_value\n",
        "  return cross_entropy_loss_value"
      ],
      "metadata": {
        "id": "vxJmdrghj2vI"
      },
      "execution_count": 31,
      "outputs": []
    },
    {
      "cell_type": "code",
      "source": [
        "# Train and evaluation\n",
        "def compute_num_correct(model, images, labels):\n",
        "\n",
        "  subclass_logits = model(images, training=False)\n",
        "  subclass_logits = tf.reshape(subclass_logits, (-1, NUM_CLASSES, NUM_SUBCLASSES // NUM_CLASSES))\n",
        "  class_logits = tf.math.reduce_logsumexp(subclass_logits, -1)\n",
        "\n",
        "  return tf.reduce_sum(\n",
        "      tf.cast(tf.math.equal(tf.argmax(class_logits, -1), tf.argmax(labels, -1)),\n",
        "              tf.float32)), tf.argmax(class_logits, -1), tf.argmax(labels, -1)\n",
        "\n",
        "def train_and_evaluate(model, compute_loss_fn):\n",
        "\n",
        "  optimizer = tf.keras.optimizers.Adam(learning_rate=0.001)\n",
        "\n",
        "  for epoch in range(1, NUM_EPOCHS + 1):\n",
        "    # Run training.\n",
        "    print('Epoch {}: '.format(epoch), end='')\n",
        "    for images, labels in mnist_train:\n",
        "      with tf.GradientTape() as tape:\n",
        "        loss_value = compute_loss_fn(images, labels)\n",
        "\n",
        "      grads = tape.gradient(loss_value, model.trainable_variables)\n",
        "      optimizer.apply_gradients(zip(grads, model.trainable_variables))\n",
        "\n",
        "    # Run evaluation.\n",
        "    num_correct = 0\n",
        "    num_total = builder.info.splits['test'].num_examples\n",
        "    for images, labels in mnist_test:\n",
        "      num_correct += compute_num_correct(model, images, labels)[0].numpy()\n",
        "    print(\"Class_accuracy: \" + '{:.2f}%'.format(num_correct / num_total * 100))"
      ],
      "metadata": {
        "id": "XrUtlA9-C0UM"
      },
      "execution_count": 32,
      "outputs": []
    },
    {
      "cell_type": "code",
      "source": [
        "# train teacher\n",
        "train_and_evaluate(cnn_model, compute_teacher_loss)\n"
      ],
      "metadata": {
        "colab": {
          "base_uri": "https://localhost:8080/"
        },
        "id": "UakAPiHwC654",
        "outputId": "18204fcc-9ebe-48ca-8585-2c883477fa15"
      },
      "execution_count": null,
      "outputs": [
        {
          "output_type": "stream",
          "name": "stdout",
          "text": [
            "Epoch 1: Class_accuracy: 97.88%\n",
            "Epoch 2: Class_accuracy: 98.78%\n",
            "Epoch 3: Class_accuracy: 98.65%\n",
            "Epoch 4: Class_accuracy: 99.09%\n",
            "Epoch 5: Class_accuracy: 99.10%\n",
            "Epoch 6: Class_accuracy: 99.15%\n",
            "Epoch 7: Class_accuracy: 99.24%\n",
            "Epoch 8: Class_accuracy: 99.35%\n",
            "Epoch 9: Class_accuracy: 99.30%\n",
            "Epoch 10: Class_accuracy: 99.35%\n",
            "Epoch 11: Class_accuracy: 99.39%\n",
            "Epoch 12: Class_accuracy: 99.40%\n"
          ]
        }
      ]
    },
    {
      "cell_type": "code",
      "source": [
        "#@title Train teacher，with 12 subclasses. This record is just for reference\n",
        "train_and_evaluate(cnn_model, compute_teacher_loss)"
      ],
      "metadata": {
        "colab": {
          "base_uri": "https://localhost:8080/"
        },
        "cellView": "form",
        "id": "vsxC1qLmv96x",
        "outputId": "913b8546-f5ff-4772-c87c-10b062b7cc10"
      },
      "execution_count": 18,
      "outputs": [
        {
          "output_type": "stream",
          "name": "stdout",
          "text": [
            "Epoch 1: Class_accuracy: 98.11%\n",
            "Epoch 2: Class_accuracy: 98.58%\n",
            "Epoch 3: Class_accuracy: 98.95%\n",
            "Epoch 4: Class_accuracy: 98.91%\n",
            "Epoch 5: Class_accuracy: 98.97%\n",
            "Epoch 6: Class_accuracy: 99.03%\n",
            "Epoch 7: Class_accuracy: 99.21%\n",
            "Epoch 8: Class_accuracy: 99.20%\n",
            "Epoch 9: Class_accuracy: 99.20%\n",
            "Epoch 10: Class_accuracy: 99.27%\n",
            "Epoch 11: Class_accuracy: 99.39%\n",
            "Epoch 12: Class_accuracy: 99.34%\n"
          ]
        }
      ]
    },
    {
      "cell_type": "code",
      "source": [
        "# train student\n",
        "train_and_evaluate(fc_model, compute_student_loss)\n"
      ],
      "metadata": {
        "id": "gcrrb-vYDNog",
        "colab": {
          "base_uri": "https://localhost:8080/"
        },
        "outputId": "c655db3e-8d4c-4c23-9e1b-55f3e1be62a4"
      },
      "execution_count": null,
      "outputs": [
        {
          "output_type": "stream",
          "name": "stdout",
          "text": [
            "Epoch 1: Class_accuracy: 97.69%\n",
            "Epoch 2: Class_accuracy: 98.40%\n",
            "Epoch 3: Class_accuracy: 98.55%\n",
            "Epoch 4: Class_accuracy: 98.57%\n",
            "Epoch 5: Class_accuracy: 98.67%\n",
            "Epoch 6: Class_accuracy: 98.75%\n",
            "Epoch 7: Class_accuracy: 98.76%\n",
            "Epoch 8: Class_accuracy: 98.79%\n",
            "Epoch 9: Class_accuracy: 98.82%\n",
            "Epoch 10: Class_accuracy: 98.78%\n",
            "Epoch 11: Class_accuracy: 98.76%\n",
            "Epoch 12: Class_accuracy: 98.92%\n"
          ]
        }
      ]
    },
    {
      "cell_type": "code",
      "source": [
        "# student ftom scratch\n",
        "\n",
        "fc_model_no_distillation = tf.keras.Sequential()\n",
        "fc_model_no_distillation.add(tf.keras.layers.Flatten())\n",
        "fc_model_no_distillation.add(tf.keras.layers.Dense(784, activation='relu'))\n",
        "fc_model_no_distillation.add(tf.keras.layers.Dense(784, activation='relu'))\n",
        "fc_model_no_distillation.add(tf.keras.layers.Dense(10))\n",
        "\n",
        "def compute_plain_cross_entropy_loss(images, labels):\n",
        "\n",
        "  student_class_logits = fc_model_no_distillation(images, training=True)\n",
        "  cross_entropy_loss = tf.nn.softmax_cross_entropy_with_logits(labels, student_class_logits)\n",
        "  return cross_entropy_loss\n",
        "\n",
        "train_and_evaluate(fc_model_no_distillation, compute_plain_cross_entropy_loss)"
      ],
      "metadata": {
        "colab": {
          "base_uri": "https://localhost:8080/"
        },
        "id": "o3ichPrJq0Ds",
        "outputId": "6246f619-4241-4376-f48d-df555d6c989e"
      },
      "execution_count": null,
      "outputs": [
        {
          "output_type": "stream",
          "name": "stdout",
          "text": [
            "Epoch 1: 97.98%\n",
            "Epoch 2: 98.19%\n",
            "Epoch 3: 98.18%\n",
            "Epoch 4: 97.89%\n",
            "Epoch 5: 98.41%\n",
            "Epoch 6: 98.26%\n",
            "Epoch 7: 98.59%\n",
            "Epoch 8: 98.51%\n",
            "Epoch 9: 98.41%\n",
            "Epoch 10: 98.41%\n",
            "Epoch 11: 98.52%\n",
            "Epoch 12: 98.39%\n"
          ]
        }
      ]
    },
    {
      "cell_type": "markdown",
      "source": [
        "## Draw graphs base on generated datum"
      ],
      "metadata": {
        "id": "wPbXaxoi1K6d"
      }
    },
    {
      "cell_type": "code",
      "source": [
        "\n",
        "# tune alpha\n",
        "balance_1_00 = np.array([96.74, 97.97, 98.26, 98.53, 98.59, 98.65, 98.76, 98.73, 98.80, 98.84, 98.82, 98.83])\n",
        "balance_1_02 = np.array([96.89, 97.69, 98.19, 98.42, 98.54, 98.62, 98.62, 98.72, 98.68, 98.68, 98.80, 98.77])\n",
        "balance_1_04 = np.array([96.94, 97.89, 98.29, 98.52, 98.67, 98.66, 98.93, 98.72, 98.80, 98.80, 98.87, 98.85])\n",
        "balance_1_06 = np.array([96.70, 97.84, 98.27, 98.32, 98.49, 98.76, 98.70, 98.73, 98.70, 98.84, 98.78, 98.78])\n",
        "balance_1_08 = np.array([96.87, 97.84, 98.10, 98.39, 98.42, 98.57, 98.63, 98.70, 98.78, 98.77, 98.83, 98.80])\n",
        "balance_1_10 = np.array([96.52, 97.05, 97.84, 97.83, 97.81, 98.05, 97.97, 97.54, 98.09, 98.03, 98.08, 98.00])\n",
        "\n",
        "balance_2_00 = np.array([96.93, 97.84, 98.18, 98.29, 98.44, 98.49, 98.68, 98.62, 98.71, 98.76, 98.77, 98.74])\n",
        "balance_2_02 = np.array([96.81, 97.88, 98.18, 98.51, 98.58, 98.57, 98.77, 98.68, 98.86, 98.69, 98.79, 98.79])\n",
        "balance_2_04 = np.array([96.86, 97.88, 98.07, 98.36, 98.43, 98.54, 98.58, 98.75, 98.77, 98.79, 98.82, 98.82])\n",
        "balance_2_06 = np.array([96.71, 97.86, 98.23, 98.39, 98.51, 98.62, 98.65, 98.72, 98.81, 98.80, 98.79, 98.80])\n",
        "balance_2_08 = np.array([96.57, 97.79, 98.17, 98.28, 98.59, 98.57, 98.58, 98.69, 98.71, 98.74, 98.75, 98.81])\n",
        "balance_2_10 = np.array([97.18, 97.09, 97.73, 97.97, 98.09, 97.88, 97.93, 98.24, 98.06, 98.16, 97.58, 97.98])\n",
        "\n",
        "balance_3_00 = np.array([96.79, 97.81, 98.21, 98.44, 98.59, 98.70, 98.79, 98.73, 98.86, 98.83, 98.90, 98.89])\n",
        "balance_3_02 = np.array([96.97, 97.89, 98.16, 98.36, 98.48, 98.70, 98.73, 98.72, 98.73, 98.75, 98.87, 98.90])\n",
        "balance_3_04 = np.array([96.84, 97.79, 98.25, 98.39, 98.61, 98.69, 98.74, 98.71, 98.78, 98.85, 98.90, 98.91])\n",
        "balance_3_06 = np.array([96.92, 97.77, 98.22, 98.44, 98.52, 98.62, 98.82, 98.81, 98.82, 98.84, 98.78, 98.85])\n",
        "balance_3_08 = np.array([97.02, 97.85, 98.18, 98.31, 98.48, 98.67, 98.73, 98.77, 98.88, 98.79, 98.72, 98.77])\n",
        "balance_3_10 = np.array([96.52, 97.65, 97.91, 98.07, 98.11, 98.00, 97.73, 97.93, 97.85, 98.23, 98.06, 97.77])\n",
        "\n",
        "balance00 = (np.mean(np.array([balance_1_00, balance_2_00, balance_3_00]), axis=0))\n",
        "balance02 = (np.mean(np.array([balance_1_02, balance_2_02, balance_3_02]), axis=0))\n",
        "balance04 = (np.mean(np.array([balance_1_04, balance_2_04, balance_3_04]), axis=0))\n",
        "balance06 = (np.mean(np.array([balance_1_06, balance_2_06, balance_3_06]), axis=0))\n",
        "balance08 = (np.mean(np.array([balance_1_08, balance_2_08, balance_3_08]), axis=0))\n",
        "balance10 = (np.mean(np.array([balance_1_10, balance_2_10, balance_3_10]), axis=0))\n",
        "\n",
        "max_value = np.amax([balance00, balance02, balance04, balance06, balance08, balance10])\n",
        "min_value = np.amin([balance00, balance02, balance04, balance06, balance08, balance10])\n",
        "\n",
        "balance00 = (np.mean(np.array([balance_1_00, balance_2_00, balance_3_00]), axis=0) -min_value) / (max_value - min_value)\n",
        "balance02 = (np.mean(np.array([balance_1_02, balance_2_02, balance_3_02]), axis=0) -min_value) / (max_value - min_value)\n",
        "balance04 = (np.mean(np.array([balance_1_04, balance_2_04, balance_3_04]), axis=0) -min_value) / (max_value - min_value)\n",
        "balance06 = (np.mean(np.array([balance_1_06, balance_2_06, balance_3_06]), axis=0) -min_value) / (max_value - min_value)\n",
        "balance08 = (np.mean(np.array([balance_1_08, balance_2_08, balance_3_08]), axis=0) -min_value) / (max_value - min_value)\n",
        "balance10 = (np.mean(np.array([balance_1_10, balance_2_10, balance_3_10]), axis=0) -min_value) / (max_value - min_value)\n",
        "\n",
        "x = list(range(1, 13))\n",
        "\n",
        "plt.figure(1)\n",
        "plt.plot(x, balance00, label = \"alpha = 0.0\")\n",
        "plt.plot(x, balance02, label = \"alpha = 0.2\")\n",
        "plt.plot(x, balance04, label = \"alpha = 0.4\")\n",
        "plt.plot(x, balance06, label = \"alpha = 0.6\")\n",
        "plt.plot(x, balance08, label = \"alpha = 0.8\")\n",
        "plt.plot(x, balance10, label = \"alpha = 1.0\")\n",
        "\n",
        "plt.title('Accuracy vs Alpha')\n",
        "plt.ylabel('Normalized accuracy')\n",
        "plt.xlabel('Epoch number')\n",
        "plt.legend(loc='best')\n",
        "plt.show()\n",
        "\n",
        "plt.figure(2)\n",
        "plt.xlim(10, 12)\n",
        "plt.ylim(0.8, 1.02)\n",
        "plt.plot(x, balance00, label = \"alpha = 0.0\")\n",
        "plt.plot(x, balance02, label = \"alpha = 0.2\")\n",
        "plt.plot(x, balance04, label = \"alpha = 0.4\")\n",
        "plt.plot(x, balance06, label = \"alpha = 0.6\")\n",
        "plt.plot(x, balance08, label = \"alpha = 0.8\")\n",
        "plt.plot(x, balance10, label = \"alpha = 1.0\")\n",
        "\n",
        "plt.title('Accuracy vs Alpha (zoom top right)')\n",
        "plt.ylabel('Normalized accuracy')\n",
        "plt.xlabel('Epoch number')\n",
        "plt.legend(loc='best')\n",
        "plt.show()"
      ],
      "metadata": {
        "colab": {
          "base_uri": "https://localhost:8080/",
          "height": 573
        },
        "id": "NJNGRyMWnUuX",
        "outputId": "bfd2d2d0-8d73-4fc4-f4c3-d44478132566"
      },
      "execution_count": 23,
      "outputs": [
        {
          "output_type": "display_data",
          "data": {
            "text/plain": [
              "<Figure size 432x288 with 1 Axes>"
            ],
            "image/png": "[encoded data removed]"
          },
          "metadata": {
            "needs_background": "light"
          }
        },
        {
          "output_type": "display_data",
          "data": {
            "text/plain": [
              "<Figure size 432x288 with 1 Axes>"
            ],
            "image/png": "[encoded data removed]"
          },
          "metadata": {
            "needs_background": "light"
          }
        }
      ]
    },
    {
      "cell_type": "code",
      "source": [
        "# tune temperature\n",
        "temp_1_01 = [96.72, 97.46, 97.91, 97.71, 98.02, 98.21, 98.02, 98.06, 98.38, 98.34, 98.27, 97.57]\n",
        "temp_1_02 = [96.71, 97.84, 98.10, 98.33, 98.39, 98.36, 98.37, 98.45, 98.57, 98.58, 98.57, 98.59]\n",
        "temp_1_04 = [96.80, 98.03, 98.09, 98.39, 98.49, 98.53, 98.57, 98.73, 98.74, 98.73, 98.78, 98.83]\n",
        "temp_1_16 = [96.60, 97.71, 98.17, 98.46, 98.61, 98.68, 98.73, 98.78, 98.79, 98.76, 98.78, 98.87]\n",
        "temp_1_32 = [96.59, 97.73, 98.25, 98.44, 98.61, 98.69, 98.78, 98.79, 98.84, 98.86, 98.96, 98.94]\n",
        "temp_1_64 = [96.75, 97.78, 98.31, 98.51, 98.56, 98.66, 98.77, 98.78, 98.86, 98.84, 98.88, 98.84]\n",
        "\n",
        "temp_2_01 = [97.11, 97.32, 97.90, 98.14, 97.89, 98.08, 97.79, 98.33, 98.17, 98.38, 98.20, 98.47]\n",
        "temp_2_02 = [96.31, 97.71, 98.10, 98.29, 98.39, 98.45, 98.51, 98.54, 98.54, 98.59, 98.66, 98.75]\n",
        "temp_2_04 = [96.85, 97.84, 98.26, 98.42, 98.48, 98.61, 98.65, 98.79, 98.76, 98.83, 98.80, 98.92]\n",
        "temp_2_16 = [96.72, 97.69, 98.24, 98.44, 98.62, 98.67, 98.71, 98.70, 98.75, 98.81, 98.85, 98.85]\n",
        "temp_2_32 = [96.84, 97.81, 98.32, 98.40, 98.56, 98.65, 98.68, 98.78, 98.75, 98.82, 98.84, 98.76]\n",
        "temp_2_64 = [96.88, 97.88, 98.26, 98.48, 98.66, 98.66, 98.79, 98.72, 98.81, 98.73, 98.84, 98.88]\n",
        "\n",
        "temp_3_01 = [96.69, 97.47, 98.16, 97.74, 98.05, 98.07, 98.01, 98.28, 98.19, 98.12, 98.26, 98.50]\n",
        "temp_3_02 = [96.70, 97.56, 97.94, 98.23, 98.32, 98.43, 98.51, 98.64, 98.60, 98.76, 98.66, 98.61]\n",
        "temp_3_04 = [96.75, 97.95, 98.37, 98.46, 98.62, 98.76, 98.73, 98.72, 98.85, 98.84, 98.88, 98.86]\n",
        "temp_3_16 = [96.65, 97.81, 98.33, 98.42, 98.49, 98.75, 98.68, 98.72, 98.73, 98.72, 98.82, 98.81]\n",
        "temp_3_32 = [96.72, 97.83, 98.15, 98.41, 98.48, 98.67, 98.60, 98.65, 98.69, 98.77, 98.79, 98.84]\n",
        "temp_3_64 = [96.92, 97.80, 98.23, 98.51, 98.58, 98.63, 98.73, 98.67, 98.73, 98.71, 98.80, 98.77]\n",
        "\n",
        "temp01 = (np.mean(np.array([temp_1_01, temp_2_01, temp_3_01]), axis=0))\n",
        "temp02 = (np.mean(np.array([temp_1_02, temp_2_02, temp_3_02]), axis=0))\n",
        "temp04 = (np.mean(np.array([temp_1_04, temp_2_04, temp_3_04]), axis=0))\n",
        "temp16 = (np.mean(np.array([temp_1_16, temp_2_16, temp_3_16]), axis=0))\n",
        "temp32 = (np.mean(np.array([temp_1_32, temp_2_32, temp_3_32]), axis=0))\n",
        "temp64 = (np.mean(np.array([temp_1_64, temp_2_64, temp_3_64]), axis=0))\n",
        "\n",
        "max_value = np.amax([temp01, temp02, temp04, temp16, temp32, temp64])\n",
        "min_value = np.amin([temp01, temp02, temp04, temp16, temp32, temp64])\n",
        "\n",
        "temp01 = (np.mean(np.array([temp_1_01, temp_2_01, temp_3_01]), axis=0) -min_value) / (max_value - min_value)\n",
        "temp02 = (np.mean(np.array([temp_1_02, temp_2_02, temp_3_02]), axis=0) -min_value) / (max_value - min_value)\n",
        "temp04 = (np.mean(np.array([temp_1_04, temp_2_04, temp_3_04]), axis=0) -min_value) / (max_value - min_value)\n",
        "temp16 = (np.mean(np.array([temp_1_16, temp_2_16, temp_3_16]), axis=0) -min_value) / (max_value - min_value)\n",
        "temp32 = (np.mean(np.array([temp_1_32, temp_2_32, temp_3_32]), axis=0) -min_value) / (max_value - min_value)\n",
        "temp64 = (np.mean(np.array([temp_1_64, temp_2_64, temp_3_64]), axis=0) -min_value) / (max_value - min_value)\n",
        "\n",
        "x = list(range(1, 13))\n",
        "\n",
        "plt.figure(1)\n",
        "plt.plot(x, temp01, label = \"temperature = 1\")\n",
        "plt.plot(x, temp02, label = \"temperature = 2\")\n",
        "plt.plot(x, temp04, label = \"temperature = 4\")\n",
        "plt.plot(x, temp16, label = \"temperature = 16\")\n",
        "plt.plot(x, temp32, label = \"temperature = 32\")\n",
        "plt.plot(x, temp64, label = \"temperature = 64\")\n",
        "\n",
        "plt.title('Accuracy vs Temperature')\n",
        "plt.ylabel('Normalized accuracy')\n",
        "plt.xlabel('Epoch number')\n",
        "plt.legend(loc='best')\n",
        "plt.show()\n",
        "\n",
        "plt.figure(2)\n",
        "plt.xlim(10, 12)\n",
        "plt.ylim(0.8, 1.02)\n",
        "plt.plot(x, temp01, label = \"temperature = 1\")\n",
        "plt.plot(x, temp02, label = \"temperature = 2\")\n",
        "plt.plot(x, temp04, label = \"temperature = 4\")\n",
        "plt.plot(x, temp16, label = \"temperature = 16\")\n",
        "plt.plot(x, temp32, label = \"temperature = 32\")\n",
        "plt.plot(x, temp64, label = \"temperature = 64\")\n",
        "\n",
        "plt.title('Accuracy vs Temperature')\n",
        "plt.ylabel('Normalized accuracy')\n",
        "plt.xlabel('Epoch number')\n",
        "plt.legend(loc='best')\n",
        "plt.show()\n"
      ],
      "metadata": {
        "colab": {
          "base_uri": "https://localhost:8080/",
          "height": 573
        },
        "id": "1YT2hevwDX-F",
        "outputId": "b97cce2f-1160-49eb-eb96-b152dcbc770f"
      },
      "execution_count": 25,
      "outputs": [
        {
          "output_type": "display_data",
          "data": {
            "text/plain": [
              "<Figure size 432x288 with 1 Axes>"
            ],
            "image/png": "[encoded data removed]"
          },
          "metadata": {
            "needs_background": "light"
          }
        },
        {
          "output_type": "display_data",
          "data": {
            "text/plain": [
              "<Figure size 432x288 with 1 Axes>"
            ],
            "image/png": "[encoded data removed]"
          },
          "metadata": {
            "needs_background": "light"
          }
        }
      ]
    },
    {
      "cell_type": "markdown",
      "source": [
        "# Archived, just some drafts"
      ],
      "metadata": {
        "id": "4j3JTEJflw7d"
      }
    },
    {
      "cell_type": "code",
      "source": [
        "#@title Test training plain teacher model\n",
        "# teacher\n",
        "testmodel_t = tf.keras.Sequential()\n",
        "\n",
        "testmodel_t.add(Conv2D(32, kernel_size=(3, 3), strides=(1, 1), activation='relu', input_shape=(28, 28, 1)))\n",
        "testmodel_t.add(MaxPooling2D(pool_size=(2, 2), strides=(1, 1)))\n",
        "testmodel_t.add(Conv2D(64, kernel_size=(3, 3), strides=(1, 1), activation='relu'))\n",
        "testmodel_t.add(MaxPooling2D(pool_size=(2, 2), strides=(2, 2)))\n",
        "testmodel_t.add(Flatten())\n",
        "testmodel_t.add(Dropout(0.5))\n",
        "testmodel_t.add(Dense(128, activation='relu'))\n",
        "testmodel_t.add(Dropout(0.5))\n",
        "testmodel_t.add(Dense(10, activation='softmax'))\n",
        "\n",
        "testmodel_t.compile(loss=keras.losses.categorical_crossentropy,\n",
        "              optimizer=tf.keras.optimizers.Adam(learning_rate=0.001),\n",
        "              metrics=['accuracy'])\n",
        "\n",
        "for i in range(12):\n",
        "  testmodel_t.fit(mnist_train)\n",
        "\n",
        "  num_correct = 0\n",
        "  num_total = builder.info.splits['test'].num_examples\n",
        "  for images, labels in mnist_test:\n",
        "    num_correct += compute_num_correct(testmodel_t, images, labels)[0].numpy()\n",
        "  print(\"Class_accuracy: \" + '{:.2f}%'.format(\n",
        "      num_correct / num_total * 100))"
      ],
      "metadata": {
        "colab": {
          "base_uri": "https://localhost:8080/"
        },
        "id": "1DRd84bv8hWP",
        "outputId": "15814a77-696f-47dd-a10f-fc65ca9cb5c3",
        "cellView": "form"
      },
      "execution_count": null,
      "outputs": [
        {
          "output_type": "stream",
          "name": "stdout",
          "text": [
            "234/234 [==============================] - 137s 577ms/step - loss: 0.3030 - accuracy: 0.9060\n",
            "Class_accuracy: 98.31%\n",
            "234/234 [==============================] - 137s 577ms/step - loss: 0.0950 - accuracy: 0.9718\n",
            "Class_accuracy: 98.70%\n",
            "234/234 [==============================] - 137s 580ms/step - loss: 0.0723 - accuracy: 0.9780\n",
            "Class_accuracy: 98.92%\n",
            "234/234 [==============================] - 136s 575ms/step - loss: 0.0613 - accuracy: 0.9816\n",
            "Class_accuracy: 98.92%\n",
            "234/234 [==============================] - 136s 572ms/step - loss: 0.0552 - accuracy: 0.9832\n",
            "Class_accuracy: 98.92%\n",
            "234/234 [==============================] - 136s 575ms/step - loss: 0.0491 - accuracy: 0.9850\n",
            "Class_accuracy: 99.00%\n",
            "234/234 [==============================] - 135s 571ms/step - loss: 0.0460 - accuracy: 0.9851\n",
            "Class_accuracy: 99.09%\n",
            "234/234 [==============================] - 135s 571ms/step - loss: 0.0408 - accuracy: 0.9872\n",
            "Class_accuracy: 99.02%\n",
            "234/234 [==============================] - 136s 573ms/step - loss: 0.0377 - accuracy: 0.9881\n",
            "Class_accuracy: 99.20%\n",
            "234/234 [==============================] - 136s 572ms/step - loss: 0.0363 - accuracy: 0.9883\n",
            "Class_accuracy: 99.09%\n",
            "234/234 [==============================] - 135s 571ms/step - loss: 0.0330 - accuracy: 0.9893\n",
            "Class_accuracy: 99.15%\n",
            "234/234 [==============================] - 135s 571ms/step - loss: 0.0313 - accuracy: 0.9901\n",
            "Class_accuracy: 99.19%\n"
          ]
        }
      ]
    },
    {
      "cell_type": "code",
      "source": [
        "#@title Test training plain student model\n",
        "\n",
        "# student\n",
        "testmodel = tf.keras.Sequential()\n",
        "\n",
        "testmodel.add(Flatten())\n",
        "testmodel.add(Dense(784, activation='relu'))\n",
        "testmodel.add(Dense(784, activation='relu'))\n",
        "testmodel.add(Dense(10, activation='softmax'))\n",
        "\n",
        "testmodel.compile(loss=keras.losses.categorical_crossentropy,\n",
        "              optimizer=tf.keras.optimizers.Adam(learning_rate=0.001),\n",
        "              metrics=['accuracy'])\n",
        "\n",
        "for i in range(12):\n",
        "  testmodel.fit(mnist_train)\n",
        "\n",
        "  num_correct = 0\n",
        "  num_total = builder.info.splits['test'].num_examples\n",
        "  for images, labels in mnist_test:\n",
        "    num_correct += compute_num_correct(testmodel, images, labels)[0].numpy()\n",
        "  print(\"Class_accuracy: \" + '{:.2f}%'.format(\n",
        "      num_correct / num_total * 100))"
      ],
      "metadata": {
        "colab": {
          "base_uri": "https://localhost:8080/"
        },
        "id": "GhrVthL01Ji2",
        "outputId": "1036359c-d94a-4390-ada3-149630b247c6",
        "cellView": "form"
      },
      "execution_count": null,
      "outputs": [
        {
          "output_type": "stream",
          "name": "stdout",
          "text": [
            "234/234 [==============================] - 11s 37ms/step - loss: 0.2352 - accuracy: 0.9314\n",
            "Class_accuracy: 96.04%\n",
            "234/234 [==============================] - 10s 36ms/step - loss: 0.0799 - accuracy: 0.9763\n",
            "Class_accuracy: 97.40%\n",
            "234/234 [==============================] - 10s 35ms/step - loss: 0.0497 - accuracy: 0.9844\n",
            "Class_accuracy: 97.83%\n",
            "234/234 [==============================] - 10s 37ms/step - loss: 0.0332 - accuracy: 0.9895\n",
            "Class_accuracy: 97.91%\n",
            "234/234 [==============================] - 10s 35ms/step - loss: 0.0229 - accuracy: 0.9927\n",
            "Class_accuracy: 97.79%\n",
            "234/234 [==============================] - 10s 35ms/step - loss: 0.0159 - accuracy: 0.9949\n",
            "Class_accuracy: 97.98%\n",
            "234/234 [==============================] - 10s 35ms/step - loss: 0.0181 - accuracy: 0.9939\n",
            "Class_accuracy: 98.09%\n",
            "234/234 [==============================] - 10s 35ms/step - loss: 0.0142 - accuracy: 0.9954\n",
            "Class_accuracy: 98.13%\n",
            "234/234 [==============================] - 10s 35ms/step - loss: 0.0128 - accuracy: 0.9956\n",
            "Class_accuracy: 97.87%\n",
            "234/234 [==============================] - 10s 35ms/step - loss: 0.0117 - accuracy: 0.9960\n",
            "Class_accuracy: 97.89%\n",
            "234/234 [==============================] - 10s 35ms/step - loss: 0.0100 - accuracy: 0.9966\n",
            "Class_accuracy: 98.31%\n",
            "234/234 [==============================] - 10s 35ms/step - loss: 0.0130 - accuracy: 0.9955\n",
            "Class_accuracy: 98.02%\n"
          ]
        }
      ]
    }
  ]
}