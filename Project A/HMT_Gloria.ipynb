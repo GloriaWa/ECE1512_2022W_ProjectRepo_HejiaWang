{
  "nbformat": 4,
  "nbformat_minor": 0,
  "metadata": {
    "colab": {
      "name": "HMT_Gloria.ipynb",
      "provenance": [],
      "collapsed_sections": []
    },
    "kernelspec": {
      "name": "python3",
      "display_name": "Python 3"
    },
    "accelerator": "GPU"
  },
  "cells": [
    {
      "cell_type": "code",
      "metadata": {
        "colab": {
          "base_uri": "https://localhost:8080/"
        },
        "id": "LpFRkPsrSR5Y",
        "outputId": "fa818674-e838-4134-c271-60474a424138"
      },
      "source": [
        "from google.colab import drive\n",
        "drive.mount('/content/drive')"
      ],
      "execution_count": 1,
      "outputs": [
        {
          "output_type": "stream",
          "name": "stdout",
          "text": [
            "Mounted at /content/drive\n"
          ]
        }
      ]
    },
    {
      "cell_type": "code",
      "metadata": {
        "id": "UAHDf7YhShHO"
      },
      "source": [
        "import os\n",
        "os.chdir(r'/content/drive/My Drive/Colab Notebooks')  # Change the directory to torchRay-master folder"
      ],
      "execution_count": 2,
      "outputs": []
    },
    {
      "cell_type": "markdown",
      "metadata": {
        "id": "6RKtE7d0YAG2"
      },
      "source": [
        "# Requirements"
      ]
    },
    {
      "cell_type": "code",
      "metadata": {
        "id": "IwBCKBEXVYjN"
      },
      "source": [
        "import os\n",
        "import numpy as np\n",
        "import pandas as pd\n",
        "import tensorflow\n",
        "import keras\n",
        "from keras.preprocessing.image import ImageDataGenerator\n",
        "from keras.models import Sequential\n",
        "from keras.layers import Conv2D, MaxPooling2D, GlobalAveragePooling2D, Dense, Flatten\n",
        "from keras import regularizers\n",
        "import keras.backend as K\n",
        "from keras.models import load_model\n",
        "from tensorflow.core.util import event_pb2\n",
        "from tensorflow.python.lib.io import tf_record\n",
        "import matplotlib.pyplot as plt\n",
        "import sklearn.metrics as metrics\n",
        "import cv2"
      ],
      "execution_count": 3,
      "outputs": []
    },
    {
      "cell_type": "markdown",
      "metadata": {
        "id": "calsYefrYC1P"
      },
      "source": [
        "# Dataset loader"
      ]
    },
    {
      "cell_type": "code",
      "metadata": {
        "colab": {
          "base_uri": "https://localhost:8080/"
        },
        "id": "qjubR6-Zvpn2",
        "outputId": "a9af573b-b170-4bbd-e8bb-fa61f46259aa"
      },
      "source": [
        "train_dir = '/content/drive/My Drive/Colab Notebooks/HMT_train' #you should change to your directory\n",
        "test_dir = '/content/drive/My Drive/Colab Notebooks/HMT_test' #you should change to your directory\n",
        "\n",
        "train_datagen = ImageDataGenerator(rescale=1/255.,\n",
        "shear_range=0.1,\n",
        "rotation_range=15,\n",
        "horizontal_flip=True,\n",
        "vertical_flip=True)\n",
        "\n",
        "test_datagen = ImageDataGenerator(rescale=1/255.)\n",
        "\n",
        "train_generator = train_datagen.flow_from_directory(train_dir,\n",
        "class_mode='categorical',\n",
        "interpolation='bilinear',\n",
        "target_size=(224, 224),\n",
        "batch_size=32,\n",
        "shuffle=True)\n",
        "\n",
        "test_generator = test_datagen.flow_from_directory(test_dir,\n",
        "class_mode='categorical',\n",
        "interpolation='bilinear',\n",
        "target_size=(224, 224),\n",
        "batch_size=32,\n",
        "shuffle=False)"
      ],
      "execution_count": 4,
      "outputs": [
        {
          "output_type": "stream",
          "name": "stdout",
          "text": [
            "Found 4504 images belonging to 8 classes.\n",
            "Found 496 images belonging to 8 classes.\n"
          ]
        }
      ]
    },
    {
      "cell_type": "markdown",
      "metadata": {
        "id": "c1ewbg_Qv6Gd"
      },
      "source": [
        "Overrided"
      ]
    },
    {
      "cell_type": "markdown",
      "metadata": {
        "id": "-q-2qXovYJQ6"
      },
      "source": [
        "# Create Model"
      ]
    },
    {
      "cell_type": "code",
      "metadata": {
        "id": "Sjj4ZEe4XFCF"
      },
      "source": [
        "weight_decay = 5e-4\n",
        "model = Sequential()\n",
        "model.add(Conv2D(32, kernel_size=(3, 3), padding='same', activation='relu', input_shape=(224, 224, 3), kernel_regularizer=regularizers.l2(weight_decay)))\n",
        "model.add(Conv2D(32, kernel_size=(3, 3), padding='same', activation='relu', kernel_regularizer=regularizers.l2(weight_decay)))\n",
        "model.add(MaxPooling2D(pool_size=(2, 2)))\n",
        "\n",
        "model.add(Conv2D(64, kernel_size=(3, 3), padding='same', activation='relu', kernel_regularizer=regularizers.l2(weight_decay)))\n",
        "model.add(Conv2D(64, kernel_size=(3, 3), padding='same', activation='relu', kernel_regularizer=regularizers.l2(weight_decay)))\n",
        "model.add(MaxPooling2D(pool_size=(2, 2)))\n",
        "\n",
        "# flatten?\n",
        "\n",
        "#model.add(Flatten())\n",
        "model.add(GlobalAveragePooling2D())\n",
        "#model.add(Dense(1024, activation='relu', kernel_initializer=keras.initializers.RandomNormal(mean=0.0, stddev=0.5),\n",
        "#                bias_initializer=keras.initializers.Zeros(), kernel_regularizer=regularizers.l2(weight_decay)))\n",
        "model.add(Dense(8, activation='softmax', kernel_initializer=keras.initializers.RandomNormal(mean=0.0, stddev=0.5),\n",
        "                bias_initializer=keras.initializers.Zeros(), kernel_regularizer=regularizers.l2(weight_decay)))"
      ],
      "execution_count": 5,
      "outputs": []
    },
    {
      "cell_type": "code",
      "metadata": {
        "colab": {
          "base_uri": "https://localhost:8080/"
        },
        "id": "p-4ejl671J3v",
        "outputId": "39745770-f8b9-4bbf-c06b-e966c2246968"
      },
      "source": [
        "model.summary()"
      ],
      "execution_count": null,
      "outputs": [
        {
          "output_type": "stream",
          "text": [
            "Model: \"sequential_1\"\n",
            "_________________________________________________________________\n",
            "Layer (type)                 Output Shape              Param #   \n",
            "=================================================================\n",
            "conv2d_4 (Conv2D)            (None, 224, 224, 32)      896       \n",
            "_________________________________________________________________\n",
            "conv2d_5 (Conv2D)            (None, 224, 224, 32)      9248      \n",
            "_________________________________________________________________\n",
            "max_pooling2d_2 (MaxPooling2 (None, 112, 112, 32)      0         \n",
            "_________________________________________________________________\n",
            "conv2d_6 (Conv2D)            (None, 112, 112, 64)      18496     \n",
            "_________________________________________________________________\n",
            "conv2d_7 (Conv2D)            (None, 112, 112, 64)      36928     \n",
            "_________________________________________________________________\n",
            "max_pooling2d_3 (MaxPooling2 (None, 56, 56, 64)        0         \n",
            "_________________________________________________________________\n",
            "global_average_pooling2d_1 ( (None, 64)                0         \n",
            "_________________________________________________________________\n",
            "dense_1 (Dense)              (None, 8)                 520       \n",
            "=================================================================\n",
            "Total params: 66,088\n",
            "Trainable params: 66,088\n",
            "Non-trainable params: 0\n",
            "_________________________________________________________________\n"
          ],
          "name": "stdout"
        }
      ]
    },
    {
      "cell_type": "markdown",
      "metadata": {
        "id": "Kvv6IX1-8n3O"
      },
      "source": [
        "# Training"
      ]
    },
    {
      "cell_type": "code",
      "metadata": {
        "id": "dD2-9ryQ1RrA"
      },
      "source": [
        "# Compile the model\n",
        "model.compile(loss=keras.losses.categorical_crossentropy,\n",
        "              optimizer=keras.optimizers.SGD(),\n",
        "              metrics=['accuracy'])"
      ],
      "execution_count": null,
      "outputs": []
    },
    {
      "cell_type": "code",
      "metadata": {
        "id": "ROz-WKALbiLh"
      },
      "source": [
        "def lr_scheduler(epoch):\n",
        "    base_ep = 15\n",
        "    return 1e-3 * (.5 ** (epoch // base_ep))\n",
        "lr_reduce_cb = keras.callbacks.LearningRateScheduler(lr_scheduler)\n",
        "tensorboard_cb = keras.callbacks.TensorBoard(log_dir='log2', write_graph=True)\n",
        "early_stopping_cb = keras.callbacks.EarlyStopping(patience=8, min_delta=0.)"
      ],
      "execution_count": null,
      "outputs": []
    },
    {
      "cell_type": "code",
      "metadata": {
        "id": "p2ysz8Bu1PW3"
      },
      "source": [
        "model.fit_generator(generator=train_generator,\n",
        "                    steps_per_epoch=train_generator.n // 32,\n",
        "                    epochs=150,\n",
        "                    callbacks=[tensorboard_cb],                  \n",
        "                    shuffle = True,\n",
        "                    verbose=1)"
      ],
      "execution_count": null,
      "outputs": []
    },
    {
      "cell_type": "code",
      "metadata": {
        "id": "fyuUgXy7p63G"
      },
      "source": [
        "model.save('HMT.h5')"
      ],
      "execution_count": null,
      "outputs": []
    },
    {
      "cell_type": "markdown",
      "metadata": {
        "id": "vHXAMFq68q8p"
      },
      "source": [
        "# Load Model"
      ]
    },
    {
      "cell_type": "code",
      "metadata": {
        "id": "xBqL38S0KYQp"
      },
      "source": [
        "model=load_model('HMT.h5')"
      ],
      "execution_count": 5,
      "outputs": []
    },
    {
      "cell_type": "code",
      "source": [
        "predict = model.predict(test_generator,steps=16)"
      ],
      "metadata": {
        "id": "3EamoBRZo5qN"
      },
      "execution_count": 7,
      "outputs": []
    },
    {
      "cell_type": "code",
      "source": [
        "from sklearn.metrics import roc_curve, auc, confusion_matrix\n",
        "import seaborn as sns\n",
        "\n",
        "test_generator.reset()\n",
        "y_predict = np.argmax(predict, axis=1)\n",
        "labels = []\n",
        "\n",
        "for i in range(16):\n",
        "  _,label_batch=test_generator.next()\n",
        "  for j in range(label_batch.shape[0]):\n",
        "    labels.append(label_batch[j])\n",
        "labels = np.array(labels)\n",
        "y_labels = np.argmax(labels, axis=1)\n",
        "\n",
        "### classification accuracy on test set\n",
        "correct_prediction_count = 0\n",
        "for i in range(496):\n",
        "  if y_predict[i] == y_labels[i]:\n",
        "    correct_prediction_count = correct_prediction_count+1\n",
        "\n",
        "print(\"Overall classification accuracy on test set: \" + str(correct_prediction_count/496))\n",
        "\n",
        "### ROC and AUC for each class\n",
        "# referenced https://hackernoon.com/simple-guide-on-how-to-generate-roc-plot-for-keras-classifier-2ecc6c73115a.\n",
        "class_prob_0 = predict[:,0]\n",
        "class_prob_1 = predict[:,1]\n",
        "class_prob_2 = predict[:,2]\n",
        "class_prob_3 = predict[:,3]\n",
        "class_prob_4 = predict[:,4]\n",
        "class_prob_5 = predict[:,5]\n",
        "class_prob_6 = predict[:,6]\n",
        "class_prob_7 = predict[:,7]\n",
        "\n",
        "class_truth_0 = labels[:,0]\n",
        "class_truth_1 = labels[:,1]\n",
        "class_truth_2 = labels[:,2]\n",
        "class_truth_3 = labels[:,3]\n",
        "class_truth_4 = labels[:,4]\n",
        "class_truth_5 = labels[:,5]\n",
        "class_truth_6 = labels[:,6]\n",
        "class_truth_7 = labels[:,7]\n",
        "\n",
        "fpr_0, tpr_0, _ = roc_curve(class_truth_0, class_prob_0)\n",
        "fpr_1, tpr_1, _ = roc_curve(class_truth_1, class_prob_1)\n",
        "fpr_2, tpr_2, _ = roc_curve(class_truth_2, class_prob_2)\n",
        "fpr_3, tpr_3, _ = roc_curve(class_truth_3, class_prob_3)\n",
        "fpr_4, tpr_4, _ = roc_curve(class_truth_4, class_prob_4)\n",
        "fpr_5, tpr_5, _ = roc_curve(class_truth_5, class_prob_5)\n",
        "fpr_6, tpr_6, _ = roc_curve(class_truth_6, class_prob_6)\n",
        "fpr_7, tpr_7, _ = roc_curve(class_truth_7, class_prob_7)\n",
        "\n",
        "auc_0 = auc(fpr_0, tpr_0)\n",
        "auc_1 = auc(fpr_1, tpr_1)\n",
        "auc_2 = auc(fpr_2, tpr_2)\n",
        "auc_3 = auc(fpr_3, tpr_3)\n",
        "auc_4 = auc(fpr_4, tpr_4)\n",
        "auc_5 = auc(fpr_5, tpr_5)\n",
        "auc_6 = auc(fpr_6, tpr_6)\n",
        "auc_7 = auc(fpr_7, tpr_7)\n",
        "\n",
        "plt.figure(1)\n",
        "plt.plot([0, 1], [0, 1], 'k--')\n",
        "plt.plot(fpr_0, tpr_0, label='class 0 (area = {:.3f})'.format(auc_0))\n",
        "plt.plot(fpr_1, tpr_1, label='class 1 (area = {:.3f})'.format(auc_1))\n",
        "plt.plot(fpr_2, tpr_2, label='class 2 (area = {:.3f})'.format(auc_2))\n",
        "plt.plot(fpr_3, tpr_3, label='class 3 (area = {:.3f})'.format(auc_3))\n",
        "plt.plot(fpr_4, tpr_4, label='class 4 (area = {:.3f})'.format(auc_4))\n",
        "plt.plot(fpr_5, tpr_5, label='class 5 (area = {:.3f})'.format(auc_5))\n",
        "plt.plot(fpr_6, tpr_6, label='class 6 (area = {:.3f})'.format(auc_6))\n",
        "plt.plot(fpr_7, tpr_7, label='class 7 (area = {:.3f})'.format(auc_7))\n",
        "plt.xlabel('False positive rate')\n",
        "plt.ylabel('True positive rate')\n",
        "plt.title('ROC curve')\n",
        "plt.legend(loc='best')\n",
        "plt.show()\n",
        "\n",
        "# zoom in the top-left cornor\n",
        "plt.figure(2)\n",
        "plt.xlim(0, 0.4)\n",
        "plt.ylim(0.6, 1)\n",
        "plt.plot([0, 1], [0, 1], 'k--')\n",
        "plt.plot(fpr_0, tpr_0, label='class 0 (area = {:.3f})'.format(auc_0))\n",
        "plt.plot(fpr_1, tpr_1, label='class 1 (area = {:.3f})'.format(auc_1))\n",
        "plt.plot(fpr_2, tpr_2, label='class 2 (area = {:.3f})'.format(auc_2))\n",
        "plt.plot(fpr_3, tpr_3, label='class 3 (area = {:.3f})'.format(auc_3))\n",
        "plt.plot(fpr_4, tpr_4, label='class 4 (area = {:.3f})'.format(auc_4))\n",
        "plt.plot(fpr_5, tpr_5, label='class 5 (area = {:.3f})'.format(auc_5))\n",
        "plt.plot(fpr_6, tpr_6, label='class 6 (area = {:.3f})'.format(auc_6))\n",
        "plt.plot(fpr_7, tpr_7, label='class 7 (area = {:.3f})'.format(auc_7))\n",
        "plt.xlabel('False positive rate')\n",
        "plt.ylabel('True positive rate')\n",
        "plt.title('ROC curve (zoomed in at top left)')\n",
        "plt.legend(loc='best')\n",
        "plt.show()\n",
        "\n",
        "### confusion matrix\n",
        "# referenced https://stackoverflow.com/questions/65618137/confusion-matrix-for-multiple-classes-in-python.\n",
        "confusion_matrix = confusion_matrix(y_labels, y_predict)\n",
        "confusion_matrix_plot = np.round((confusion_matrix/confusion_matrix.max()), 4)\n",
        "class_labels = ['Tumor', 'Stroma', 'Complex', 'Lympho', 'Debris', 'Mucosa', 'Adiopse', 'Empty']\n",
        "\n",
        "fig = plt.figure(figsize=(12, 10))\n",
        "ax= plt.subplot()\n",
        "sns.heatmap(confusion_matrix_plot, annot=True, ax = ax, fmt = 'g')\n",
        "\n",
        "ax.set_xlabel('Predicted Class', fontsize=20)\n",
        "ax.xaxis.set_label_position('bottom')\n",
        "ax.xaxis.set_ticklabels(class_labels, fontsize = 10)\n",
        "ax.xaxis.tick_bottom()\n",
        "\n",
        "ax.set_ylabel('True Class', fontsize=20)\n",
        "ax.yaxis.set_ticklabels(class_labels, fontsize = 10)\n",
        "plt.yticks(rotation=0)\n",
        "\n",
        "plt.title('Confusion Matrix Heatmap', fontsize=20)\n",
        "plt.show()\n",
        "\n",
        "### class-wise accuracy\n",
        "class_accur = np.zeros(8)\n",
        "class_accur[0] = (confusion_matrix[0][0] + confusion_matrix[1:8, 1:8].sum()) /496\n",
        "class_accur[1] = (confusion_matrix[1][1] + confusion_matrix[2:8, 2:8].sum() + confusion_matrix[0][0]) /496\n",
        "class_accur[2] = (confusion_matrix[2][2] + confusion_matrix[3:8, 3:8].sum() + confusion_matrix[0:2, 0:2].sum()) /496\n",
        "class_accur[3] = (confusion_matrix[3][3] + confusion_matrix[4:8, 4:8].sum() + confusion_matrix[0:3, 0:3].sum()) /496\n",
        "class_accur[4] = (confusion_matrix[4][4] + confusion_matrix[5:8, 5:8].sum() + confusion_matrix[0:4, 0:4].sum()) /496\n",
        "class_accur[5] = (confusion_matrix[5][5] + confusion_matrix[6:8, 6:8].sum() + confusion_matrix[0:5, 0:5].sum()) /496\n",
        "class_accur[6] = (confusion_matrix[6][6] + confusion_matrix[7][7] + confusion_matrix[0:6, 0:6].sum()) /496\n",
        "class_accur[7] = (confusion_matrix[7][7] + confusion_matrix[0:7, 0:7].sum()) /496\n",
        "\n",
        "### Precision\n",
        "precision = np.zeros(8)\n",
        "precision[0] = confusion_matrix[0][0] / sum(confusion_matrix[:, 0])\n",
        "precision[1] = confusion_matrix[1][1] / sum(confusion_matrix[:, 1])\n",
        "precision[2] = confusion_matrix[2][2] / sum(confusion_matrix[:, 2])\n",
        "precision[3] = confusion_matrix[3][3] / sum(confusion_matrix[:, 3])\n",
        "precision[4] = confusion_matrix[4][4] / sum(confusion_matrix[:, 4])\n",
        "precision[5] = confusion_matrix[5][5] / sum(confusion_matrix[:, 5])\n",
        "precision[6] = confusion_matrix[6][6] / sum(confusion_matrix[:, 6])\n",
        "precision[7] = confusion_matrix[7][7] / sum(confusion_matrix[:, 7])\n",
        "\n",
        "### Recall\n",
        "recall = np.zeros(8)\n",
        "recall[0] = confusion_matrix[0][0] / sum(confusion_matrix[0])\n",
        "recall[1] = confusion_matrix[1][1] / sum(confusion_matrix[1])\n",
        "recall[2] = confusion_matrix[2][2] / sum(confusion_matrix[2])\n",
        "recall[3] = confusion_matrix[3][3] / sum(confusion_matrix[3])\n",
        "recall[4] = confusion_matrix[4][4] / sum(confusion_matrix[4])\n",
        "recall[5] = confusion_matrix[5][5] / sum(confusion_matrix[5])\n",
        "recall[6] = confusion_matrix[6][6] / sum(confusion_matrix[6])\n",
        "recall[7] = confusion_matrix[7][7] / sum(confusion_matrix[7])\n",
        "\n",
        "### F1\n",
        "f1 = np.zeros(8)\n",
        "f1[0] = (2* precision[0] * recall[0]) / (precision[0] + recall[0])\n",
        "f1[1] = (2* precision[1] * recall[1]) / (precision[1] + recall[1])\n",
        "f1[2] = (2* precision[2] * recall[2]) / (precision[2] + recall[2])\n",
        "f1[3] = (2* precision[3] * recall[3]) / (precision[3] + recall[3])\n",
        "f1[4] = (2* precision[4] * recall[4]) / (precision[4] + recall[4])\n",
        "f1[5] = (2* precision[5] * recall[5]) / (precision[5] + recall[5])\n",
        "f1[6] = (2* precision[6] * recall[6]) / (precision[6] + recall[6])\n",
        "f1[7] = (2* precision[7] * recall[7]) / (precision[7] + recall[7])\n",
        "\n",
        "# \n",
        "print(\"class wise accuracy: \" + str(class_accur))\n",
        "print(\"precision: \" + str(precision))\n",
        "print(\"recall: \" + str(recall))\n",
        "print(\"f1: \" + str(f1))\n",
        "\n",
        "# visualize the meatures\n",
        "class_accu_array = np.array(class_accur)\n",
        "precision_array = np.array(precision)\n",
        "recall_array = np.array(recall)\n",
        "f1_array = np.array(f1)\n",
        "\n",
        "xxx = np.arange(8)\n",
        "bar_width = 0.3\n",
        "\n",
        "plt.figure(10)\n",
        "plt.bar(xxx, pd.Series(class_accu_array), bar_width)\n",
        "plt.title('class wise accuracy')\n",
        "plt.xlabel('classes')\n",
        "plt.ylabel('class-wise accuracy')\n",
        "plt.show()\n",
        "\n",
        "plt.figure(10)\n",
        "plt.bar(xxx, pd.Series(precision), bar_width)\n",
        "plt.title('precision')\n",
        "plt.xlabel('classes')\n",
        "plt.ylabel('precision')\n",
        "plt.show()\n",
        "\n",
        "plt.figure(10)\n",
        "plt.bar(xxx, pd.Series(recall), bar_width)\n",
        "plt.title('recall')\n",
        "plt.xlabel('classes')\n",
        "plt.ylabel('recall')\n",
        "plt.show()\n",
        "\n",
        "plt.figure(10)\n",
        "plt.bar(xxx, pd.Series(f1), bar_width)\n",
        "plt.title('F1 score')\n",
        "plt.xlabel('classes')\n",
        "plt.ylabel('f1')\n",
        "plt.show()\n",
        "##"
      ],
      "metadata": {
        "colab": {
          "base_uri": "https://localhost:8080/",
          "height": 1000
        },
        "id": "CXFC_Dr5Jmpr",
        "outputId": "97285a7d-f15a-4d0d-856a-7da80bfbf82d"
      },
      "execution_count": 8,
      "outputs": [
        {
          "output_type": "stream",
          "name": "stdout",
          "text": [
            "Overall classification accuracy on test set: 0.8346774193548387\n"
          ]
        },
        {
          "output_type": "display_data",
          "data": {
            "image/png": "[encoded data removed]",
            "text/plain": [
              "<Figure size 432x288 with 1 Axes>"
            ]
          },
          "metadata": {
            "needs_background": "light"
          }
        },
        {
          "output_type": "display_data",
          "data": {
            "image/png": "[encoded data removed]",
            "text/plain": [
              "<Figure size 432x288 with 1 Axes>"
            ]
          },
          "metadata": {
            "needs_background": "light"
          }
        },
        {
          "output_type": "display_data",
          "data": {
            "image/png": "[encoded data removed]",
            "text/plain": [
              "<Figure size 864x720 with 2 Axes>"
            ]
          },
          "metadata": {
            "needs_background": "light"
          }
        },
        {
          "output_type": "stream",
          "name": "stdout",
          "text": [
            "class wise accuracy: [0.97379032 0.88306452 0.85080645 0.89314516 0.90927419 0.97177419\n",
            " 0.99395161 0.99395161]\n",
            "precision: [0.92982456 0.61038961 0.66666667 0.92982456 0.74545455 0.94444444\n",
            " 1.         0.95384615]\n",
            "recall: [0.85483871 0.75806452 0.77419355 0.85483871 0.66129032 0.82258065\n",
            " 0.9516129  1.        ]\n",
            "f1: [0.8907563  0.67625899 0.71641791 0.8907563  0.7008547  0.87931034\n",
            " 0.97520661 0.97637795]\n"
          ]
        },
        {
          "output_type": "display_data",
          "data": {
            "image/png": "[encoded data removed]",
            "text/plain": [
              "<Figure size 432x288 with 1 Axes>"
            ]
          },
          "metadata": {
            "needs_background": "light"
          }
        },
        {
          "output_type": "display_data",
          "data": {
            "image/png": "[encoded data removed]",
            "text/plain": [
              "<Figure size 432x288 with 1 Axes>"
            ]
          },
          "metadata": {
            "needs_background": "light"
          }
        },
        {
          "output_type": "display_data",
          "data": {
            "image/png": "[encoded data removed]",
            "text/plain": [
              "<Figure size 432x288 with 1 Axes>"
            ]
          },
          "metadata": {
            "needs_background": "light"
          }
        },
        {
          "output_type": "display_data",
          "data": {
            "image/png": "[encoded data removed]",
            "text/plain": [
              "<Figure size 432x288 with 1 Axes>"
            ]
          },
          "metadata": {
            "needs_background": "light"
          }
        }
      ]
    },
    {
      "cell_type": "code",
      "metadata": {
        "id": "fdmpfmFXOvGQ"
      },
      "source": [
        "def my_summary_iterator(path):\n",
        "  for r in tf_record.tf_record_iterator(path):\n",
        "    yield event_pb2.Event.FromString(r)\n",
        "train_acc = []\n",
        "train_loss = []\n",
        "train_lr = []\n",
        "#print('log/train/' + os.listdir('log/train')[2])\n",
        "for e in my_summary_iterator('log/train/' + os.listdir('log/train')[-1]):\n",
        "  for v in e.summary.value:\n",
        "    if v.tag == 'epoch_accuracy':\n",
        "      train_acc.append(v.simple_value)\n",
        "    elif v.tag == 'epoch_loss':\n",
        "      train_loss.append(v.simple_value)"
      ],
      "execution_count": null,
      "outputs": []
    },
    {
      "cell_type": "code",
      "metadata": {
        "colab": {
          "base_uri": "https://localhost:8080/",
          "height": 312
        },
        "id": "ZuYBQxCzktXv",
        "outputId": "9057fcfa-bd59-43a8-839c-ed377d7dedd9"
      },
      "source": [
        "plt.plot(np.arange(len(train_acc)), train_acc)\n",
        "plt.xlabel('Epoch')\n",
        "plt.ylabel('Training Accuracy')\n",
        "plt.title('Training progress: Accuracy')"
      ],
      "execution_count": null,
      "outputs": [
        {
          "output_type": "execute_result",
          "data": {
            "text/plain": [
              "Text(0.5, 1.0, 'Training progress: Accuracy')"
            ]
          },
          "metadata": {
            "tags": []
          },
          "execution_count": 14
        },
        {
          "output_type": "display_data",
          "data": {
            "image/png": "[encoded data removed]",
            "text/plain": [
              "<Figure size 432x288 with 1 Axes>"
            ]
          },
          "metadata": {
            "tags": [],
            "needs_background": "light"
          }
        }
      ]
    },
    {
      "cell_type": "code",
      "metadata": {
        "id": "lFYPSLg_lEvC",
        "colab": {
          "base_uri": "https://localhost:8080/",
          "height": 312
        },
        "outputId": "64798f15-5b60-406f-d5bf-584f80f3fed4"
      },
      "source": [
        "plt.plot(np.arange(len(train_loss)), train_loss)\n",
        "plt.xlabel('Epoch')\n",
        "plt.ylabel('Training Loss')\n",
        "plt.title('Training progress: Loss')"
      ],
      "execution_count": null,
      "outputs": [
        {
          "output_type": "execute_result",
          "data": {
            "text/plain": [
              "Text(0.5, 1.0, 'Training progress: Loss')"
            ]
          },
          "metadata": {
            "tags": []
          },
          "execution_count": 15
        },
        {
          "output_type": "display_data",
          "data": {
            "image/png": "[encoded data removed]",
            "text/plain": [
              "<Figure size 432x288 with 1 Axes>"
            ]
          },
          "metadata": {
            "tags": [],
            "needs_background": "light"
          }
        }
      ]
    },
    {
      "cell_type": "markdown",
      "metadata": {
        "id": "zcPaIZw0-64V"
      },
      "source": [
        "# Explanation"
      ]
    },
    {
      "cell_type": "markdown",
      "metadata": {
        "id": "N6587JG1kysH"
      },
      "source": [
        "Load the explaier library"
      ]
    },
    {
      "cell_type": "code",
      "metadata": {
        "id": "kpr09_NnlIGB"
      },
      "source": [
        "from xai_utils import *\n",
        "# grad_cam is chosen\n",
        "\n",
        "# def grad_cam(input_model, image, layer_name):\n",
        "#     cls = np.argmax(input_model.predict(image))\n",
        "#     def normalize(x):\n",
        "#         \"\"\"Utility function to normalize a tensor by its L2 norm\"\"\"\n",
        "#         return (x + 1e-10) / (K.sqrt(K.mean(K.square(x))) + 1e-10)\n",
        "#     \"\"\"GradCAM method for visualizing input saliency.\"\"\"\n",
        "#     y_c = input_model.output\n",
        "#     conv_output = input_model.get_layer(layer_name).output\n",
        "#     feedforward1 = keras.models.Model([input_model.input], [conv_output, y_c])\n",
        "#     with tf.GradientTape() as tape:\n",
        "#         ff_results=feedforward1([image])\n",
        "#         all_fmap_masks, predictions = ff_results[0], ff_results[-1]\n",
        "#         loss = predictions[:, cls]\n",
        "#     grads_val = tape.gradient(loss, all_fmap_masks)\n",
        "#     if len(image.shape)==3:\n",
        "#         axis=(0, 1)\n",
        "#     elif len(image.shape)==4:\n",
        "#         axis=(0, 1, 2)\n",
        "#     weights = np.mean(grads_val, axis=axis)\n",
        "#     cam = np.dot(all_fmap_masks[0], weights)\n",
        "#     #print (cam)\n",
        "#     H,W= image.shape[1:3]\n",
        "#     cam = np.maximum(cam, 0)\n",
        "#     #cam = resize(cam, (H, W))\n",
        "#     cam = zoom(cam,H/cam.shape[0])\n",
        "#     #cam = np.maximum(cam, 0)\n",
        "#     cam = cam / cam.max()\n",
        "#     return cam"
      ],
      "execution_count": 6,
      "outputs": []
    },
    {
      "cell_type": "markdown",
      "metadata": {
        "id": "WPg-zk4vBHYs"
      },
      "source": [
        "Load a batch of images"
      ]
    },
    {
      "cell_type": "code",
      "metadata": {
        "id": "R54o5-zYdQLk"
      },
      "source": [
        "test_generator.reset()"
      ],
      "execution_count": 36,
      "outputs": []
    },
    {
      "cell_type": "code",
      "metadata": {
        "id": "yfBMriHk-9xB"
      },
      "source": [
        "image_batch,label_batch=test_generator.next()"
      ],
      "execution_count": 37,
      "outputs": []
    },
    {
      "cell_type": "markdown",
      "metadata": {
        "id": "t1NPS8fpBXwj"
      },
      "source": [
        "Classes:"
      ]
    },
    {
      "cell_type": "code",
      "metadata": {
        "id": "rUCx85IBCOSx"
      },
      "source": [
        "classes=['Tumor', 'Stroma', 'Complex', 'Lympho', 'Debris', 'Mucosa', 'Adiopse', 'Empty']"
      ],
      "execution_count": 38,
      "outputs": []
    },
    {
      "cell_type": "markdown",
      "metadata": {
        "id": "6HJ71p8JDcNf"
      },
      "source": [
        "Predict a single image"
      ]
    },
    {
      "cell_type": "code",
      "metadata": {
        "id": "qeSrbciv_99p"
      },
      "source": [
        "index=8\n",
        "\n",
        "prediction=model(image_batch)\n",
        "print('True label: '+classes[np.argmax(label_batch[index])])\n",
        "print('Predicted_label: '+classes[np.argmax(prediction[index])])\n",
        "print('Confidence score for the correct label: '+str(prediction[index][np.argmax(label_batch[index])].numpy()))"
      ],
      "execution_count": null,
      "outputs": []
    },
    {
      "cell_type": "markdown",
      "metadata": {
        "id": "Mv0LV1mV2cW1"
      },
      "source": [
        "Generate explanation map"
      ]
    },
    {
      "cell_type": "markdown",
      "source": [
        "## Lime"
      ],
      "metadata": {
        "id": "Y_14mN38z1iO"
      }
    },
    {
      "cell_type": "code",
      "source": [
        "import random\n",
        "import sklearn\n",
        "import skimage.segmentation as seg\n",
        "import copy\n",
        "import skimage.io \n",
        "from sklearn.linear_model import Ridge\n",
        "\n",
        "sample_input = image_batch[index].astype(float)\n",
        "sample_label_class = np.argmax(label_batch[index])\n",
        "\n",
        "# following the idea of LIME python library, https://github.com/marcotcr/lime/blob/master/lime/lime_image.py. Using quickshift to get superpixels of the origin image.\n",
        "superpixel_seg = seg.quickshift(sample_input, kernel_size=4, max_dist=200, ratio=0.2)\n",
        "n_features = np.unique(superpixel_seg).shape[0]\n",
        "\n",
        "sample_size = 1000\n",
        "mask = [[0]*n_features]*sample_size\n",
        "for i in range(sample_size):\n",
        "  buff = [0]*n_features\n",
        "  for j in range(n_features):\n",
        "    ran = random.uniform(0, 1)\n",
        "    if ran>0.5:\n",
        "      buff[j] = 1\n",
        "  mask[i] = buff\n",
        "mask = np.array(mask)\n",
        "mask = np.vstack([np.ones(n_features), mask]).astype(float)\n",
        "\n",
        "# distance and weight\n",
        "# metric and kernel chosen referenced the lime library implementation, https://github.com/marcotcr/lime.\n",
        "original = np.ones(n_features)[np.newaxis,:]\n",
        "distances = sklearn.metrics.pairwise_distances(mask, original, metric='cosine').ravel()\n",
        "weights = np.sqrt(np.exp(-(distances ** 2) / 0.25 ** 2))\n",
        "\n",
        "masked_pred = []\n",
        "for i in range(sample_size+1):\n",
        "  perturbed_img = copy.deepcopy(sample_input)\n",
        "  active_seg = np.where(mask[i] >0.5)[0]\n",
        "  perturb_map = np.zeros(superpixel_seg.shape)\n",
        "\n",
        "  for j in active_seg:\n",
        "    perturb_map[superpixel_seg == j] = 1\n",
        "\n",
        "  perturbed_img = perturbed_img * perturb_map[:,:,np.newaxis]\n",
        "  # skimage.io.imshow(perturbed_img)\n",
        "\n",
        "  pred = model.predict(np.expand_dims(perturbed_img, axis=0))\n",
        "  masked_pred.append(pred[0])\n",
        "masked_pred = np.array(masked_pred)\n",
        "masked_pred_class = masked_pred[:, sample_label_class]\n",
        "\n",
        "# Choose a linear model for explanation, just follow what the paper has mentioned.\n",
        "sparse_linear_model = Ridge(alpha=1, fit_intercept=True)\n",
        "sparse_linear_model.fit(mask, masked_pred_class, sample_weight=weights)\n"
      ],
      "metadata": {
        "id": "so2Y0Qhtz6HW",
        "colab": {
          "base_uri": "https://localhost:8080/"
        },
        "outputId": "cbf2f7b4-e2a8-4f56-c9d8-9424632fa7de"
      },
      "execution_count": 53,
      "outputs": [
        {
          "output_type": "execute_result",
          "data": {
            "text/plain": [
              "Ridge(alpha=1)"
            ]
          },
          "metadata": {},
          "execution_count": 53
        }
      ]
    },
    {
      "cell_type": "code",
      "source": [
        "exp_lime = sparse_linear_model.coef_\n",
        "exp_lime = exp_lime / exp_lime.max()\n",
        "\n",
        "expl_map = np.zeros(superpixel_seg.shape)\n",
        "for i in range(n_features):\n",
        "  expl_map[superpixel_seg == i] = exp_lime[i]\n",
        "\n",
        "plt.figure(1)\n",
        "plt.imshow(image_batch[index])\n",
        "plt.imshow(expl_map, cmap='jet', alpha=0.5)\n",
        "plt.axis('off')\n",
        "plt.title('Explanation map (LIME)')"
      ],
      "metadata": {
        "id": "2BYiA7-A0O7u"
      },
      "execution_count": null,
      "outputs": []
    },
    {
      "cell_type": "code",
      "source": [
        "thresho = 20\n",
        "imp_segs = np.argsort(exp_lime)[-thresho:] \n",
        "\n",
        "expl_map = np.zeros(superpixel_seg.shape)\n",
        "for i in imp_segs:\n",
        "  expl_map[superpixel_seg == i] = 1\n",
        "expl_img = copy.deepcopy(sample_input)\n",
        "expl_img = expl_img * expl_map[:,:,np.newaxis]\n",
        "skimage.io.imshow(expl_img)"
      ],
      "metadata": {
        "id": "lUBIUYqSA65V"
      },
      "execution_count": null,
      "outputs": []
    },
    {
      "cell_type": "markdown",
      "source": [
        "## Let's Try LIME library, just for performance comparison \n",
        "### (Seems like the library excutes faster...)"
      ],
      "metadata": {
        "id": "arvOyfX2ja1C"
      }
    },
    {
      "cell_type": "code",
      "source": [
        "# # ### Optionally try the performance of the official lime library\n",
        "\n",
        "# !pip install lime\n",
        "# import lime\n",
        "# from lime import lime_image\n",
        "# from skimage.segmentation import mark_boundaries"
      ],
      "metadata": {
        "id": "JbKXv-enCixy"
      },
      "execution_count": null,
      "outputs": []
    },
    {
      "cell_type": "code",
      "source": [
        "# explainer = lime_image.LimeImageExplainer()\n",
        "# explanation = explainer.explain_instance(sample_input.astype('double'), model.predict, top_labels=1, hide_color=0, num_samples=1000)\n",
        "\n",
        "# buff = []\n",
        "# buff.append(sample_input)\n",
        "# model.predict(np.array(buff))\n",
        "\n",
        "# img, mask = explanation.get_image_and_mask(explanation.top_labels[0], positive_only=True, num_features=20, hide_rest=True)"
      ],
      "metadata": {
        "id": "WmeUDw7QcuL9"
      },
      "execution_count": null,
      "outputs": []
    },
    {
      "cell_type": "markdown",
      "metadata": {
        "id": "eFnbIyRflKIJ"
      },
      "source": [
        "## SISE (Semantic Input Sampling for Explanation)"
      ]
    },
    {
      "cell_type": "markdown",
      "metadata": {
        "id": "u0G_a-f2NCSC"
      },
      "source": [
        "Set the layer(s)"
      ]
    },
    {
      "cell_type": "code",
      "metadata": {
        "id": "3w_x_NRXNDb9"
      },
      "source": [
        "# layers=[['conv2d_3']]"
      ],
      "execution_count": null,
      "outputs": []
    },
    {
      "cell_type": "code",
      "metadata": {
        "id": "S9mgBbiQ_uu4",
        "colab": {
          "base_uri": "https://localhost:8080/"
        },
        "outputId": "f64d7c5c-54d6-44c5-c5d3-19e930f9d6e2"
      },
      "source": [
        "# %%time\n",
        "# explanation_map_SISE = SISE(np.expand_dims(image_batch[index], axis=0), model, layers=layers, class_index=np.argmax(prediction[index]), grad_thr=0.)\n",
        "# explanation_map_SISE -= explanation_map_SISE.min()\n",
        "# explanation_map_SISE /= explanation_map_SISE.max()+10e-30"
      ],
      "execution_count": null,
      "outputs": [
        {
          "output_type": "stream",
          "name": "stdout",
          "text": [
            "CPU times: user 3.85 s, sys: 221 ms, total: 4.07 s\n",
            "Wall time: 3.55 s\n"
          ]
        }
      ]
    },
    {
      "cell_type": "markdown",
      "metadata": {
        "id": "i42jHJAMlPxU"
      },
      "source": [
        "## Grad-CAM (Gradient-based Class Activation Mapping)"
      ]
    },
    {
      "cell_type": "code",
      "metadata": {
        "id": "CnTEyHwT-8OO",
        "colab": {
          "base_uri": "https://localhost:8080/"
        },
        "outputId": "269e68f5-b1ad-44e6-a4a9-7ba970ae8f1d"
      },
      "source": [
        "%%time\n",
        "explanation_map_GradCAM = grad_cam(model, np.expand_dims(image_batch[index], axis=0), 'max_pooling2d_1')\n",
        "explanation_map_GradCAM -= explanation_map_GradCAM.min()\n",
        "explanation_map_GradCAM /= explanation_map_GradCAM.max()+10e-30"
      ],
      "execution_count": 41,
      "outputs": [
        {
          "output_type": "stream",
          "name": "stdout",
          "text": [
            "CPU times: user 68.1 ms, sys: 4.06 ms, total: 72.1 ms\n",
            "Wall time: 70.3 ms\n"
          ]
        }
      ]
    },
    {
      "cell_type": "markdown",
      "metadata": {
        "id": "UtaAc1QTlX_8"
      },
      "source": [
        "## RISE (Randomized Input Sampling for Explanation)"
      ]
    },
    {
      "cell_type": "code",
      "metadata": {
        "colab": {
          "base_uri": "https://localhost:8080/"
        },
        "id": "-7V-ug0jlb2d",
        "outputId": "61496be5-4c3c-4d7b-ea23-8c5a34049383"
      },
      "source": [
        "# %%time\n",
        "# explanation_map_RISE = RISE(image_batch[index], model, class_index=np.argmax(prediction[index]) ,N_MASKS=1000)\n",
        "# explanation_map_RISE -= explanation_map_RISE.min()\n",
        "# explanation_map_RISE /= explanation_map_RISE.max()+10e-30"
      ],
      "execution_count": null,
      "outputs": [
        {
          "output_type": "stream",
          "name": "stdout",
          "text": [
            "CPU times: user 1min 40s, sys: 1.19 s, total: 1min 41s\n",
            "Wall time: 54.1 s\n"
          ]
        }
      ]
    },
    {
      "cell_type": "markdown",
      "metadata": {
        "id": "_zJajjz3xtOY"
      },
      "source": [
        "## Plot the results"
      ]
    },
    {
      "cell_type": "code",
      "metadata": {
        "id": "9XyspS_Wlvii"
      },
      "source": [
        "#@title Plot the results\n",
        "\n",
        "plt.figure(2)\n",
        "plt.imshow(image_batch[index])\n",
        "plt.axis('off')\n",
        "plt.title('Sample image')\n",
        "\n",
        "# plt.subplot(1,4,2)\n",
        "# plt.imshow(image_batch[index])\n",
        "# plt.imshow(explanation_map_SISE, cmap='jet', alpha=0.5)\n",
        "# plt.axis('off')\n",
        "# plt.title('Explanation map (SISE)')\n",
        "\n",
        "plt.figure(3)\n",
        "plt.imshow(image_batch[index])\n",
        "plt.imshow(explanation_map_GradCAM, cmap='jet', alpha=0.5)\n",
        "plt.axis('off')\n",
        "plt.title('Explanation map (Grad-CAM)')\n",
        "\n",
        "# plt.subplot(1,4,4)\n",
        "# plt.imshow(image_batch[index])\n",
        "# plt.imshow(explanation_map_RISE, cmap='jet', alpha=0.5)\n",
        "# plt.axis('off')\n",
        "# plt.title('Explanation map (RISE)')"
      ],
      "execution_count": null,
      "outputs": []
    },
    {
      "cell_type": "markdown",
      "metadata": {
        "id": "wngWZcQ92jSL"
      },
      "source": [
        "## Quantitative evaluation of the explanation algorithm"
      ]
    },
    {
      "cell_type": "code",
      "metadata": {
        "id": "wmT1TQwnaF_E"
      },
      "source": [
        "def calculate_drop_increase(images, model, exmap, class_index, frac=0.15):\n",
        "    '''\n",
        "    inputs:\n",
        "        images: a 4-D image of size (1 x H x W x 3)\n",
        "          containing an image in RGB format and of size (H x W)\n",
        "        model: The base model\n",
        "        exmap: a given explanation map whose completeness is to be evaluated.\n",
        "        class_index: The class to whom the explanation map is related to.\n",
        "        frac: The fraction of top pixels selected.\n",
        "    returns:v\n",
        "        a tuple with 4 calculates values:\n",
        "        (drop, increase, original_pred, eplanation_pred)\n",
        "        drop (float): drop rate (between 0 and 1)\n",
        "        increase (boolean): \"1\" if increase happened\n",
        "        original_pred: confidence score for original image\n",
        "        explanation_pred:  confidence score for the selected top pixels of the image.\n",
        "    '''\n",
        "    predictions = model.predict(images)\n",
        "    # Pre-processing image \n",
        "    img=images[0,:,:,:]\n",
        "    img=img_to_array(img)\n",
        "    img = np.expand_dims(img,axis=0)\n",
        "    # Getting the prediction for image\n",
        "    Y=predictions[0][class_index]\n",
        "    \n",
        "    grad_array=np.reshape(exmap, (-1,))\n",
        "    array_size=int(grad_array.shape[0]*frac)\n",
        "    thr=np.flip(sorted(grad_array))[array_size]\n",
        "    exmap1_msk=(exmap>thr)\n",
        "    exmap1_thr=np.zeros(shape=(1,224,224,3))\n",
        "    exmap1_thr[0,:,:,0]=img[0,:,:,0]*exmap1_msk\n",
        "    exmap1_thr[0,:,:,1]=img[0,:,:,1]*exmap1_msk\n",
        "    exmap1_thr[0,:,:,2]=img[0,:,:,2]*exmap1_msk\n",
        "    ex_predictions = model.predict(exmap1_thr)[0]\n",
        "    O1=ex_predictions[class_index]\n",
        "    etta=(Y-O1)/(Y+1e-100)\n",
        "    return (etta*(etta>0), 1*(etta<0), Y, O1)"
      ],
      "execution_count": 31,
      "outputs": []
    },
    {
      "cell_type": "code",
      "metadata": {
        "id": "JkisLKyaayDL"
      },
      "source": [
        "test_generator.reset()\n",
        "drop_rate_grad = 0.\n",
        "drop_rate_lime = 0.\n",
        "\n",
        "increase_rate_grad = 0.\n",
        "increase_rate_lime = 0.\n",
        "\n",
        "for k in range(15):\n",
        "    image_batch,label_batch=test_generator.next()\n",
        "    for index in range(32):\n",
        "      prediction=model(image_batch)\n",
        "\n",
        "      ### grad cam\n",
        "      explanation_map_grad = grad_cam(model, np.expand_dims(image_batch[index], axis=0), 'max_pooling2d_1')\n",
        "      drop_rate_grad += calculate_drop_increase(np.expand_dims(image_batch[index], axis=0), model, explanation_map_grad, class_index=np.argmax(prediction[index]), frac=0.9)[0]\n",
        "      increase_rate_grad += calculate_drop_increase(np.expand_dims(image_batch[index], axis=0), model, explanation_map_grad, class_index=np.argmax(prediction[index]), frac=0.9)[1]\n",
        "\n",
        "      ### lime\n",
        "      sample_input = image_batch[index].astype(float)\n",
        "      sample_label_class = np.argmax(label_batch[index])\n",
        "\n",
        "      # following the idea of LIME python library, https://github.com/marcotcr/lime/blob/master/lime/lime_image.py. Using quickshift to get superpixels of the origin image.\n",
        "      superpixel_seg = seg.quickshift(sample_input, kernel_size=4, max_dist=200, ratio=0.2)\n",
        "      n_features = np.unique(superpixel_seg).shape[0]\n",
        "\n",
        "      sample_size = 1000\n",
        "      mask = [[0]*n_features]*sample_size\n",
        "      for i in range(sample_size):\n",
        "        buff = [0]*n_features\n",
        "        for j in range(n_features):\n",
        "          ran = random.uniform(0, 1)\n",
        "          if ran>0.5:\n",
        "            buff[j] = 1\n",
        "        mask[i] = buff\n",
        "      mask = np.array(mask)\n",
        "      mask = np.vstack([np.ones(n_features), mask]).astype(float)\n",
        "\n",
        "      # distance and weight\n",
        "      # metric and kernel chosen referenced the lime library implementation, https://github.com/marcotcr/lime.\n",
        "      original = np.ones(n_features)[np.newaxis,:]\n",
        "      distances = sklearn.metrics.pairwise_distances(mask, original, metric='cosine').ravel()\n",
        "      weights = np.sqrt(np.exp(-(distances ** 2) / 0.25 ** 2))\n",
        "\n",
        "      masked_pred = []\n",
        "      for i in range(sample_size+1):\n",
        "        perturbed_img = copy.deepcopy(sample_input)\n",
        "        active_seg = np.where(mask[i] >0.5)[0]\n",
        "        perturb_map = np.zeros(superpixel_seg.shape)\n",
        "\n",
        "        for j in active_seg:\n",
        "          perturb_map[superpixel_seg == j] = 1\n",
        "        \n",
        "        perturbed_img = perturbed_img * perturb_map[:,:,np.newaxis]\n",
        "        # skimage.io.imshow(perturbed_img)\n",
        "\n",
        "        pred = model.predict(np.expand_dims(perturbed_img, axis=0))\n",
        "        masked_pred.append(pred[0])\n",
        "      masked_pred = np.array(masked_pred)\n",
        "      masked_pred_class = masked_pred[:, sample_label_class]\n",
        "\n",
        "      # Choose a linear model for explanation, just follow what the paper has mentioned.\n",
        "      sparse_linear_model = Ridge(alpha=1, fit_intercept=True)\n",
        "      sparse_linear_model.fit(mask, masked_pred_class, sample_weight=weights)\n",
        "\n",
        "      exp_lime = sparse_linear_model.coef_\n",
        "      exp_lime = exp_lime / exp_lime.max()\n",
        "\n",
        "      expl_map_lime = np.zeros(superpixel_seg.shape)\n",
        "      for i in range(n_features):\n",
        "        expl_map_lime[superpixel_seg == i] = exp_lime[i]\n",
        "\n",
        "      drop_rate_lime += calculate_drop_increase(np.expand_dims(image_batch[index], axis=0), model, expl_map_lime, class_index=np.argmax(prediction[index]), frac=0.9)[0]\n",
        "      increase_rate_lime += calculate_drop_increase(np.expand_dims(image_batch[index], axis=0), model, expl_map_lime, class_index=np.argmax(prediction[index]), frac=0.9)[1]\n",
        "    # print(\"loop: \" + str(k))\n",
        "\n",
        "drop_rate_grad /= (15*32)\n",
        "increase_rate_grad /= (15*32)\n",
        "\n",
        "drop_rate_lime /= (15*32)\n",
        "increase_rate_lime /= (15*32)\n",
        "\n",
        "print(\"lime drop: \" + str(drop_rate_lime))\n",
        "print(\"lime increase: \" + str(increase_rate_lime))\n",
        "\n",
        "print(\"grad cam drop: \" + str(drop_rate_grad))\n",
        "print(\"grad cam increase: \" + str(increase_rate_grad))"
      ],
      "execution_count": null,
      "outputs": []
    }
  ]
}